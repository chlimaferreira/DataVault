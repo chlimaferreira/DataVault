{
 "cells": [
  {
   "cell_type": "code",
   "execution_count": 19,
   "id": "217ad903-45cf-497b-a710-4b0f6d17912a",
   "metadata": {},
   "outputs": [],
   "source": [
    "import duckdb\n",
    "con = duckdb.connect()"
   ]
  },
  {
   "cell_type": "code",
   "execution_count": 20,
   "id": "308f920f-d969-4e79-a8eb-d5eb0f1ea4e1",
   "metadata": {},
   "outputs": [],
   "source": [
    "con.sql(\"LOAD postgres;\")"
   ]
  },
  {
   "cell_type": "code",
   "execution_count": 21,
   "id": "bf7b63bd-a15f-4046-a61d-60cef910382b",
   "metadata": {},
   "outputs": [],
   "source": [
    "con.sql(\"ATTACH 'host=localhost port=5432 dbname=postgres user=postgres password=postgres' AS postgres (TYPE postgres);\")"
   ]
  },
  {
   "cell_type": "markdown",
   "id": "5073de30-ee46-4f1e-954d-39849c811be7",
   "metadata": {},
   "source": [
    "### Populando Hub_Products"
   ]
  },
  {
   "cell_type": "code",
   "execution_count": 13,
   "id": "b4e7bb49-e4d3-458a-9eec-6c365d459eb0",
   "metadata": {},
   "outputs": [],
   "source": [
    "con.sql(\"\"\"\n",
    "    INSERT into postgres.silver_raw_vault.HUB_Products    \n",
    "    SELECT distinct md5(cast( productid as text)) as Hash_Key_Product, productid, current_date as Dt_Load, 'kaggle-postgres' as Source FROM postgres.bronze.products\n",
    "\"\"\")"
   ]
  },
  {
   "cell_type": "code",
   "execution_count": 14,
   "id": "c4b6cf9e-735f-4011-8cb8-d403f2e2bd9d",
   "metadata": {},
   "outputs": [
    {
     "data": {
      "text/plain": [
       "┌──────────────────────────────────┬────────────┬─────────────────────┬─────────────────┐\n",
       "│         Hash_Key_Product         │ Product_ID │       Dt_Load       │     Source      │\n",
       "│             varchar              │   int32    │      timestamp      │     varchar     │\n",
       "├──────────────────────────────────┼────────────┼─────────────────────┼─────────────────┤\n",
       "│ eccbc87e4b5ce2fe28308fd9f2a7baf3 │          3 │ 2024-04-23 00:00:00 │ kaggle-postgres │\n",
       "│ a87ff679a2f3e71d9181a67b7542122c │          4 │ 2024-04-23 00:00:00 │ kaggle-postgres │\n",
       "│ c51ce410c124a10e0db5e4b97fc2af39 │         13 │ 2024-04-23 00:00:00 │ kaggle-postgres │\n",
       "│ c74d97b01eae257e44aa9d5bade97baf │         16 │ 2024-04-23 00:00:00 │ kaggle-postgres │\n",
       "│ 33e75ff09dd601bbe69f351039152189 │         28 │ 2024-04-23 00:00:00 │ kaggle-postgres │\n",
       "│ c16a5320fa475530d9583c34fd356ef5 │         31 │ 2024-04-23 00:00:00 │ kaggle-postgres │\n",
       "│ 1c383cd30b7c298ab50293adfecb7b18 │         35 │ 2024-04-23 00:00:00 │ kaggle-postgres │\n",
       "│ 19ca14e7ea6328a42e0eb13d585e4c22 │         36 │ 2024-04-23 00:00:00 │ kaggle-postgres │\n",
       "│ a5bfc9e07964f8dddeb95fc584cd965d │         37 │ 2024-04-23 00:00:00 │ kaggle-postgres │\n",
       "│ 67c6a1e7ce56d3d6fa748ab6d9af3fd7 │         47 │ 2024-04-23 00:00:00 │ kaggle-postgres │\n",
       "│                ·                 │          · │          ·          │        ·        │\n",
       "│                ·                 │          · │          ·          │        ·        │\n",
       "│                ·                 │          · │          ·          │        ·        │\n",
       "│ aab3238922bcc25a6f606eb525ffdc56 │         14 │ 2024-04-23 00:00:00 │ kaggle-postgres │\n",
       "│ 70efdf2ec9b086079795c442636b55fb │         17 │ 2024-04-23 00:00:00 │ kaggle-postgres │\n",
       "│ 1f0e3dad99908345f7439f8ffabdffc4 │         19 │ 2024-04-23 00:00:00 │ kaggle-postgres │\n",
       "│ 3c59dc048e8850243be8079a5c74d079 │         21 │ 2024-04-23 00:00:00 │ kaggle-postgres │\n",
       "│ d9d4f495e875a2e075a1a4a6e1b9770f │         46 │ 2024-04-23 00:00:00 │ kaggle-postgres │\n",
       "│ 2838023a778dfaecdc212708f721b788 │         51 │ 2024-04-23 00:00:00 │ kaggle-postgres │\n",
       "│ d82c8d1619ad8176d665453cfb2e55f0 │         53 │ 2024-04-23 00:00:00 │ kaggle-postgres │\n",
       "│ 735b90b4568125ed6c3f678819b6e058 │         67 │ 2024-04-23 00:00:00 │ kaggle-postgres │\n",
       "│ a3f390d88e4c41f2747bfa2f1b5f87db │         68 │ 2024-04-23 00:00:00 │ kaggle-postgres │\n",
       "│ 32bb90e8976aab5298d5da10fe66f21d │         72 │ 2024-04-23 00:00:00 │ kaggle-postgres │\n",
       "├──────────────────────────────────┴────────────┴─────────────────────┴─────────────────┤\n",
       "│ 77 rows (20 shown)                                                          4 columns │\n",
       "└───────────────────────────────────────────────────────────────────────────────────────┘"
      ]
     },
     "execution_count": 14,
     "metadata": {},
     "output_type": "execute_result"
    }
   ],
   "source": [
    "con.sql(\"select * from postgres.silver_raw_vault.HUB_Products\")"
   ]
  },
  {
   "cell_type": "markdown",
   "id": "f02b09aa-a208-49ed-b0ed-e4f0b399e2a4",
   "metadata": {},
   "source": [
    "### Populando Hub_Orders"
   ]
  },
  {
   "cell_type": "code",
   "execution_count": 15,
   "id": "7f3183bd-1737-4fcc-a692-02b68c6ccc32",
   "metadata": {},
   "outputs": [],
   "source": [
    "con.sql(\"\"\"\n",
    "    INSERT into postgres.silver_raw_vault.HUB_Orders    \n",
    "    SELECT distinct md5(cast( orderid as text)) as Hash_Key_Order, orderid, current_date as Dt_Load, 'kaggle-postgres' as Source FROM postgres.bronze.orders\n",
    "\"\"\")"
   ]
  },
  {
   "cell_type": "code",
   "execution_count": 16,
   "id": "f145c0bf-e6b1-4483-93b6-477f095d5e8d",
   "metadata": {},
   "outputs": [
    {
     "data": {
      "text/plain": [
       "┌──────────────────────────────────┬──────────┬─────────────────────┬─────────────────┐\n",
       "│          Hash_Key_Order          │ Order_ID │       Dt_Load       │     Source      │\n",
       "│             varchar              │  int32   │      timestamp      │     varchar     │\n",
       "├──────────────────────────────────┼──────────┼─────────────────────┼─────────────────┤\n",
       "│ d093e56ef752adba41e5eaf26d1960a7 │    10255 │ 2024-04-23 00:00:00 │ kaggle-postgres │\n",
       "│ 9578a63fbe545bd82cc5bbe749636af1 │    10257 │ 2024-04-23 00:00:00 │ kaggle-postgres │\n",
       "│ bd21307bad44dee908db2db5f6bf23c1 │    10258 │ 2024-04-23 00:00:00 │ kaggle-postgres │\n",
       "│ da796dcc49ab9fc5ac26db17e02a9e33 │    10260 │ 2024-04-23 00:00:00 │ kaggle-postgres │\n",
       "│ 0247f3dd84906223785fddb18353bafe │    10262 │ 2024-04-23 00:00:00 │ kaggle-postgres │\n",
       "│ 9bde76f262285bb1eaeb7b40c758b53e │    10267 │ 2024-04-23 00:00:00 │ kaggle-postgres │\n",
       "│ b433da1b32b5ca96c0ba7fcb9edba97d │    10268 │ 2024-04-23 00:00:00 │ kaggle-postgres │\n",
       "│ 995d8b30b557a46be7d27e26b689ad55 │    10273 │ 2024-04-23 00:00:00 │ kaggle-postgres │\n",
       "│ 6356d91dc6015575d84dc35e14ef20e3 │    10281 │ 2024-04-23 00:00:00 │ kaggle-postgres │\n",
       "│ f17a33840b3e520949d36b24ebad7fb0 │    10284 │ 2024-04-23 00:00:00 │ kaggle-postgres │\n",
       "│                ·                 │      ·   │          ·          │        ·        │\n",
       "│                ·                 │      ·   │          ·          │        ·        │\n",
       "│                ·                 │      ·   │          ·          │        ·        │\n",
       "│ 97885afd60c10c4a454c11e225763e04 │    10999 │ 2024-04-23 00:00:00 │ kaggle-postgres │\n",
       "│ deb91d78cfe64ef36d96460e01234147 │    11009 │ 2024-04-23 00:00:00 │ kaggle-postgres │\n",
       "│ e7fdeae58bfddf97dba9f1f67abf5921 │    11019 │ 2024-04-23 00:00:00 │ kaggle-postgres │\n",
       "│ f2ece8b7033187c53bdec16c369964e7 │    11020 │ 2024-04-23 00:00:00 │ kaggle-postgres │\n",
       "│ 7d787bb950167c81630d2f1256eec848 │    11023 │ 2024-04-23 00:00:00 │ kaggle-postgres │\n",
       "│ 977f8b33d303564416bf9f4ab1c39720 │    11025 │ 2024-04-23 00:00:00 │ kaggle-postgres │\n",
       "│ 34c19f785e19b343fe2f54b3202f632c │    11029 │ 2024-04-23 00:00:00 │ kaggle-postgres │\n",
       "│ 10374578600d43dd62268569d5ebd226 │    11063 │ 2024-04-23 00:00:00 │ kaggle-postgres │\n",
       "│ 4fe068d05b9b1470b7ffba0732b4446f │    11067 │ 2024-04-23 00:00:00 │ kaggle-postgres │\n",
       "│ 840348ae33163924c1d29fd2c22faf13 │    11073 │ 2024-04-23 00:00:00 │ kaggle-postgres │\n",
       "├──────────────────────────────────┴──────────┴─────────────────────┴─────────────────┤\n",
       "│ 830 rows (20 shown)                                                       4 columns │\n",
       "└─────────────────────────────────────────────────────────────────────────────────────┘"
      ]
     },
     "execution_count": 16,
     "metadata": {},
     "output_type": "execute_result"
    }
   ],
   "source": [
    "con.sql(\"select * from postgres.silver_raw_vault.HUB_Orders\")"
   ]
  },
  {
   "cell_type": "markdown",
   "id": "a824396b-0130-425f-8434-ee3330708bb2",
   "metadata": {},
   "source": [
    "### Populando Hub_Employee"
   ]
  },
  {
   "cell_type": "code",
   "execution_count": 17,
   "id": "cab050cb-0713-4e2f-98f7-95aacfef9b8a",
   "metadata": {},
   "outputs": [],
   "source": [
    "con.sql(\"\"\"\n",
    "        INSERT into postgres.silver_raw_vault.HUB_Employee    \n",
    "        SELECT distinct md5(cast( employeeid as text)) as Hash_Key_Employee, employeeid, current_date as Dt_Load, 'kaggle-postgres' as Source FROM postgres.bronze.employees\n",
    "    \"\"\")"
   ]
  },
  {
   "cell_type": "code",
   "execution_count": 18,
   "id": "1e0481ab-5fba-4bf2-b75a-daecd5c73672",
   "metadata": {},
   "outputs": [
    {
     "data": {
      "text/plain": [
       "┌──────────────────────────────────┬─────────────┬─────────────────────┬─────────────────┐\n",
       "│        Hash_Key_Employee         │ Employee_ID │       Dt_Load       │     Source      │\n",
       "│             varchar              │    int32    │      timestamp      │     varchar     │\n",
       "├──────────────────────────────────┼─────────────┼─────────────────────┼─────────────────┤\n",
       "│ eccbc87e4b5ce2fe28308fd9f2a7baf3 │           3 │ 2024-04-23 00:00:00 │ kaggle-postgres │\n",
       "│ a87ff679a2f3e71d9181a67b7542122c │           4 │ 2024-04-23 00:00:00 │ kaggle-postgres │\n",
       "│ c4ca4238a0b923820dcc509a6f75849b │           1 │ 2024-04-23 00:00:00 │ kaggle-postgres │\n",
       "│ c81e728d9d4c2f636f067f89cc14862c │           2 │ 2024-04-23 00:00:00 │ kaggle-postgres │\n",
       "│ e4da3b7fbbce2345d7772b0674a318d5 │           5 │ 2024-04-23 00:00:00 │ kaggle-postgres │\n",
       "│ c9f0f895fb98ab9159f51fd0297e236d │           8 │ 2024-04-23 00:00:00 │ kaggle-postgres │\n",
       "│ 8f14e45fceea167a5a36dedd4bea2543 │           7 │ 2024-04-23 00:00:00 │ kaggle-postgres │\n",
       "│ 45c48cce2e2d7fbdea1afc51c7c6ad26 │           9 │ 2024-04-23 00:00:00 │ kaggle-postgres │\n",
       "│ 1679091c5a880faf6fb5e6087eb1b2dc │           6 │ 2024-04-23 00:00:00 │ kaggle-postgres │\n",
       "└──────────────────────────────────┴─────────────┴─────────────────────┴─────────────────┘"
      ]
     },
     "execution_count": 18,
     "metadata": {},
     "output_type": "execute_result"
    }
   ],
   "source": [
    "con.sql(\"select * from postgres.silver_raw_vault.HUB_Employee\")"
   ]
  },
  {
   "cell_type": "markdown",
   "id": "2c56d116-58c0-44d0-91ad-c936ac137246",
   "metadata": {},
   "source": [
    "### Populando Hub_Customers"
   ]
  },
  {
   "cell_type": "code",
   "execution_count": 19,
   "id": "c0a4c1d9-7610-4a8b-b958-830c4dfa5b37",
   "metadata": {},
   "outputs": [],
   "source": [
    "con.sql(\"\"\"\n",
    "        INSERT into postgres.silver_raw_vault.HUB_Customers    \n",
    "        SELECT distinct md5(customerid) as Hash_Key_Customer, customerid, current_date as Dt_Load, 'kaggle-postgres' as Source FROM postgres.bronze.customers\n",
    "    \"\"\")"
   ]
  },
  {
   "cell_type": "code",
   "execution_count": 20,
   "id": "bde4f7fe-095c-4a4f-b4a4-e491e56f8297",
   "metadata": {},
   "outputs": [
    {
     "data": {
      "text/plain": [
       "┌──────────────────────────────────┬─────────────┬─────────────────────┬─────────────────┐\n",
       "│        Hash_Key_Customer         │ Customer_ID │       Dt_Load       │     Source      │\n",
       "│             varchar              │   varchar   │      timestamp      │     varchar     │\n",
       "├──────────────────────────────────┼─────────────┼─────────────────────┼─────────────────┤\n",
       "│ a4069051701cbbf04d6b652be57aecd0 │ BSBEV       │ 2024-04-23 00:00:00 │ kaggle-postgres │\n",
       "│ 4c795085d8813144c4b5eb603660a20b │ GOURL       │ 2024-04-23 00:00:00 │ kaggle-postgres │\n",
       "│ 8d386e92da9982e1149c0c26dd824da7 │ LAMAI       │ 2024-04-23 00:00:00 │ kaggle-postgres │\n",
       "│ 10a6300d303d0e6cc06fae483f928877 │ LILAS       │ 2024-04-23 00:00:00 │ kaggle-postgres │\n",
       "│ 4117438a7a403b4b0c65d88d4d11bd07 │ LONEP       │ 2024-04-23 00:00:00 │ kaggle-postgres │\n",
       "│ 39615c775cd2af1670d2053984491948 │ MEREP       │ 2024-04-23 00:00:00 │ kaggle-postgres │\n",
       "│ 5314c0b3cd13cfe0429ad8547d3b88d0 │ OLDWO       │ 2024-04-23 00:00:00 │ kaggle-postgres │\n",
       "│ 24db64e2686cd8cdac430f10f5fe0627 │ PERIC       │ 2024-04-23 00:00:00 │ kaggle-postgres │\n",
       "│ d136e043947fe78b32b9968f24b6b44a │ RICAR       │ 2024-04-23 00:00:00 │ kaggle-postgres │\n",
       "│ 04a85451006cfcb5eff8de2d94cd2060 │ ROMEY       │ 2024-04-23 00:00:00 │ kaggle-postgres │\n",
       "│                ·                 │   ·         │          ·          │        ·        │\n",
       "│                ·                 │   ·         │          ·          │        ·        │\n",
       "│                ·                 │   ·         │          ·          │        ·        │\n",
       "│ 52821ffe45eac903b04d222081d07faf │ SAVEA       │ 2024-04-23 00:00:00 │ kaggle-postgres │\n",
       "│ 0ca5d4ed83eb1f00dfe3e91089c37f53 │ THECR       │ 2024-04-23 00:00:00 │ kaggle-postgres │\n",
       "│ 46cf84d32a52ef647870b5d544302306 │ WELLI       │ 2024-04-23 00:00:00 │ kaggle-postgres │\n",
       "│ 796db1690b71574d2f17bd964fcb8089 │ WILMK       │ 2024-04-23 00:00:00 │ kaggle-postgres │\n",
       "│ 3843d32087bb0e88d4a71d4822dfcf08 │ ALFKI       │ 2024-04-23 00:00:00 │ kaggle-postgres │\n",
       "│ 1fc4be0708e71890674496db5f627c96 │ BOLID       │ 2024-04-23 00:00:00 │ kaggle-postgres │\n",
       "│ 5caf4c04731af7172f9f60e662db57df │ EASTC       │ 2024-04-23 00:00:00 │ kaggle-postgres │\n",
       "│ f6e45fed9728121c958ab525b3355ff9 │ LACOR       │ 2024-04-23 00:00:00 │ kaggle-postgres │\n",
       "│ 8881a965b5cfe34cc576de9af75acb3a │ RATTC       │ 2024-04-23 00:00:00 │ kaggle-postgres │\n",
       "│ b6ffa6b4baf2261d7015fab2dca2e8a3 │ SISBI       │ 2024-04-23 00:00:00 │ kaggle-postgres │\n",
       "├──────────────────────────────────┴─────────────┴─────────────────────┴─────────────────┤\n",
       "│ 94 rows (20 shown)                                                           4 columns │\n",
       "└────────────────────────────────────────────────────────────────────────────────────────┘"
      ]
     },
     "execution_count": 20,
     "metadata": {},
     "output_type": "execute_result"
    }
   ],
   "source": [
    "con.sql(\"select * from postgres.silver_raw_vault.HUB_Customers\")"
   ]
  },
  {
   "cell_type": "markdown",
   "id": "82e9be41-348d-4623-b482-f4ff1e111059",
   "metadata": {},
   "source": [
    "### Populando Hub_Shippers"
   ]
  },
  {
   "cell_type": "code",
   "execution_count": 21,
   "id": "6d7257fd-fe05-4b89-ba19-1c70f3f44742",
   "metadata": {},
   "outputs": [],
   "source": [
    "con.sql(\"\"\"\n",
    "        INSERT into postgres.silver_raw_vault.HUB_Shippers    \n",
    "        SELECT distinct md5(cast(shipperid as text)) as Hash_Key_Shipper, shipperid, current_date as Dt_Load, 'kaggle-postgres' as Source FROM postgres.bronze.shippers\n",
    "    \"\"\")"
   ]
  },
  {
   "cell_type": "code",
   "execution_count": 22,
   "id": "3964cfb2-78e9-48e0-96f5-d51aa5e7600c",
   "metadata": {},
   "outputs": [
    {
     "data": {
      "text/plain": [
       "┌──────────────────────────────────┬────────────┬─────────────────────┬─────────────────┐\n",
       "│         Hash_Key_Shipper         │ Shipper_ID │       Dt_Load       │     Source      │\n",
       "│             varchar              │   int32    │      timestamp      │     varchar     │\n",
       "├──────────────────────────────────┼────────────┼─────────────────────┼─────────────────┤\n",
       "│ eccbc87e4b5ce2fe28308fd9f2a7baf3 │          3 │ 2024-04-23 00:00:00 │ kaggle-postgres │\n",
       "│ c4ca4238a0b923820dcc509a6f75849b │          1 │ 2024-04-23 00:00:00 │ kaggle-postgres │\n",
       "│ c81e728d9d4c2f636f067f89cc14862c │          2 │ 2024-04-23 00:00:00 │ kaggle-postgres │\n",
       "└──────────────────────────────────┴────────────┴─────────────────────┴─────────────────┘"
      ]
     },
     "execution_count": 22,
     "metadata": {},
     "output_type": "execute_result"
    }
   ],
   "source": [
    "con.sql(\"select * from postgres.silver_raw_vault.HUB_Shippers\")"
   ]
  },
  {
   "cell_type": "markdown",
   "id": "4f5f199a-6a2f-40fc-ad94-228d21f630ce",
   "metadata": {},
   "source": [
    "#### FIM HUBS"
   ]
  },
  {
   "cell_type": "markdown",
   "id": "05248458-d04b-49e7-8a9a-98c9c715629c",
   "metadata": {},
   "source": [
    "### SAT_Customers"
   ]
  },
  {
   "cell_type": "code",
   "execution_count": 23,
   "id": "8ddbaf70-ed7c-4a9a-8ea0-bebdb8aaa565",
   "metadata": {},
   "outputs": [],
   "source": [
    "con.sql(\"\"\"\n",
    "        INSERT into postgres.silver_raw_vault.SAT_Customer    \n",
    "        SELECT md5(customerid) as Hash_Key_Customer, current_date as Dt_Load, companyname,contactname  FROM postgres.bronze.customers\n",
    "    \"\"\")\n"
   ]
  },
  {
   "cell_type": "code",
   "execution_count": 24,
   "id": "e3b3f5bb-dbb7-4ee9-b527-700292543b26",
   "metadata": {},
   "outputs": [
    {
     "data": {
      "text/plain": [
       "┌─────────────────────────────────┬─────────────────────┬────────────────────────────────────┬─────────────────────────┐\n",
       "│        Hash_Key_Customer        │       Dt_Load       │           Customer_Name            │      Contact_Name       │\n",
       "│             varchar             │      timestamp      │              varchar               │         varchar         │\n",
       "├─────────────────────────────────┼─────────────────────┼────────────────────────────────────┼─────────────────────────┤\n",
       "│ 3843d32087bb0e88d4a71d4822dfc…  │ 2024-04-23 00:00:00 │ Alfreds Futterkiste                │ Maria Anders            │\n",
       "│ 6566d378fe7b641dc480f33779c0b…  │ 2024-04-23 00:00:00 │ Ana Trujillo Emparedados y helados │ Ana Trujillo            │\n",
       "│ 936a02d4ffa95853a9185c2f65dff…  │ 2024-04-23 00:00:00 │ Antonio Moreno Taquera             │ Antonio Moreno          │\n",
       "│ 5af7cc596883d1058d430ba55e9ef…  │ 2024-04-23 00:00:00 │ Around the Horn                    │ Thomas Hardy            │\n",
       "│ 8f02a7d7eed9a7ce2bf93793de025…  │ 2024-04-23 00:00:00 │ Centro comercial Moctezuma         │ Francisco Chang         │\n",
       "│ d87fe20078f7e4a277e16c5faef6f…  │ 2024-04-23 00:00:00 │ Berglunds snabbkp                  │ Christina Berglund      │\n",
       "│ 7259235dfc93163e32b405fa5f7eb…  │ 2024-04-23 00:00:00 │ Blauer See Delikatessen            │ Hanna Moos              │\n",
       "│ 5194adaa40fd27448af6aa0daecda…  │ 2024-04-23 00:00:00 │ Blondesddsl pre et fils            │ Frdrique Citeaux        │\n",
       "│ 1fc4be0708e71890674496db5f627…  │ 2024-04-23 00:00:00 │ Blido Comidas preparadas           │ Martn Sommer            │\n",
       "│ c8ac54e3a2b5241b5d7b8a2d625b2…  │ 2024-04-23 00:00:00 │ Bon app                            │ Laurence Lebihan        │\n",
       "│                ·                │          ·          │    ·                               │       ·                 │\n",
       "│                ·                │          ·          │    ·                               │       ·                 │\n",
       "│                ·                │          ·          │    ·                               │       ·                 │\n",
       "│ f7b43c810ef47724cba4f7577b8a9…  │ 2024-04-23 00:00:00 │ Trails Head Gourmet Provisioners   │ Helvetius Nagy          │\n",
       "│ 50d35b1ea8db1ee9c9838fb5f5a38…  │ 2024-04-23 00:00:00 │ Vaffeljernet                       │ Palle Ibsen             │\n",
       "│ 0a2d9597a25142c8200ebbd3eff78…  │ 2024-04-23 00:00:00 │ Victuailles en stock               │ Mary Saveley            │\n",
       "│ 369aacdc152e982e657b6b738ee53…  │ 2024-04-23 00:00:00 │ Vins et alcools Chevalier          │ Paul Henriot            │\n",
       "│ 9c9f62399b1718ae731d164d51b99…  │ 2024-04-23 00:00:00 │ Die Wandernde Kuh                  │ Rita Mller              │\n",
       "│ 532257988661044adeee476974ce2…  │ 2024-04-23 00:00:00 │ Wartian Herkku                     │ Pirkko Koskitalo        │\n",
       "│ 46cf84d32a52ef647870b5d544302…  │ 2024-04-23 00:00:00 │ Wellington Importadora             │ Paula Parente           │\n",
       "│ 1d25f6cd08da48e6d0bea0c836189…  │ 2024-04-23 00:00:00 │ White Clover Markets               │ Karl Jablonski          │\n",
       "│ 796db1690b71574d2f17bd964fcb8…  │ 2024-04-23 00:00:00 │ Wilman Kala                        │ Matti Karttunen         │\n",
       "│ dd10ef1b3ef64d796a59de43ad85e…  │ 2024-04-23 00:00:00 │ Wolski  Zajazd                     │ Zbyszek Piestrzeniewicz │\n",
       "├─────────────────────────────────┴─────────────────────┴────────────────────────────────────┴─────────────────────────┤\n",
       "│ 94 rows (20 shown)                                                                                         4 columns │\n",
       "└──────────────────────────────────────────────────────────────────────────────────────────────────────────────────────┘"
      ]
     },
     "execution_count": 24,
     "metadata": {},
     "output_type": "execute_result"
    }
   ],
   "source": [
    "con.sql(\"select * from postgres.silver_raw_vault.SAT_Customer\")"
   ]
  },
  {
   "cell_type": "markdown",
   "id": "e5227fd1-6f37-4ceb-9361-bdae7ec41db3",
   "metadata": {},
   "source": [
    "### Populando SAT_Customers_Address"
   ]
  },
  {
   "cell_type": "code",
   "execution_count": 25,
   "id": "3b91f28d-5c0a-40f3-a7c1-1702d144fd81",
   "metadata": {},
   "outputs": [],
   "source": [
    "con.sql(\"\"\"\n",
    "        INSERT into postgres.silver_raw_vault.SAT_Customer_Address   \n",
    "        SELECT md5(customerid) as Hash_Key_Customer, current_date as Dt_Load, Address, City, Region  FROM postgres.bronze.customers\n",
    "    \"\"\")\n"
   ]
  },
  {
   "cell_type": "code",
   "execution_count": 26,
   "id": "576b2e86-d228-4395-acb7-0ef2aed339c0",
   "metadata": {},
   "outputs": [
    {
     "data": {
      "text/plain": [
       "┌──────────────────────────────────┬─────────────────────┬──────────────────────────────┬────────────┬─────────┐\n",
       "│        Hash_Key_Customer         │       Dt_Load       │           Address            │    City    │ Region  │\n",
       "│             varchar              │      timestamp      │           varchar            │  varchar   │ varchar │\n",
       "├──────────────────────────────────┼─────────────────────┼──────────────────────────────┼────────────┼─────────┤\n",
       "│ 3843d32087bb0e88d4a71d4822dfcf08 │ 2024-04-23 00:00:00 │ Obere Str. 57                │ Berlin     │ NULL    │\n",
       "│ 6566d378fe7b641dc480f33779c0bb69 │ 2024-04-23 00:00:00 │ Avda. de la Constitucin 2222 │ Mxico D.F. │ NULL    │\n",
       "│ 936a02d4ffa95853a9185c2f65dff746 │ 2024-04-23 00:00:00 │ Mataderos  2312              │ Mxico D.F. │ NULL    │\n",
       "│ 5af7cc596883d1058d430ba55e9efe15 │ 2024-04-23 00:00:00 │ 120 Hanover Sq.              │ London     │ NULL    │\n",
       "│ 8f02a7d7eed9a7ce2bf93793de025fba │ 2024-04-23 00:00:00 │ Sierras de Granada 9993      │ Mxico D.F. │ NULL    │\n",
       "│ d87fe20078f7e4a277e16c5faef6f592 │ 2024-04-23 00:00:00 │ Berguvsvgen  8               │ Lule       │ NULL    │\n",
       "│ 7259235dfc93163e32b405fa5f7ebbd4 │ 2024-04-23 00:00:00 │ Forsterstr. 57               │ Mannheim   │ NULL    │\n",
       "│ 5194adaa40fd27448af6aa0daecda08c │ 2024-04-23 00:00:00 │ 24, place Klber              │ Strasbourg │ NULL    │\n",
       "│ 1fc4be0708e71890674496db5f627c96 │ 2024-04-23 00:00:00 │ C/ Araquil, 67               │ Madrid     │ NULL    │\n",
       "│ c8ac54e3a2b5241b5d7b8a2d625b23dd │ 2024-04-23 00:00:00 │ 12, rue des Bouchers         │ Marseille  │ NULL    │\n",
       "│                ·                 │          ·          │         ·                    │    ·       │ ·       │\n",
       "│                ·                 │          ·          │         ·                    │    ·       │ ·       │\n",
       "│                ·                 │          ·          │         ·                    │    ·       │ ·       │\n",
       "│ f7b43c810ef47724cba4f7577b8a95d2 │ 2024-04-23 00:00:00 │ 722 DaVinci Blvd.            │ Kirkland   │ WA      │\n",
       "│ 50d35b1ea8db1ee9c9838fb5f5a38189 │ 2024-04-23 00:00:00 │ Smagsloget 45                │ rhus       │ NULL    │\n",
       "│ 0a2d9597a25142c8200ebbd3eff78b2d │ 2024-04-23 00:00:00 │ 2, rue du Commerce           │ Lyon       │ NULL    │\n",
       "│ 369aacdc152e982e657b6b738ee5360e │ 2024-04-23 00:00:00 │ 59 rue de lAbbaye            │ Reims      │ NULL    │\n",
       "│ 9c9f62399b1718ae731d164d51b9992d │ 2024-04-23 00:00:00 │ Adenauerallee 900            │ Stuttgart  │ NULL    │\n",
       "│ 532257988661044adeee476974ce2d7f │ 2024-04-23 00:00:00 │ Torikatu 38                  │ Oulu       │ NULL    │\n",
       "│ 46cf84d32a52ef647870b5d544302306 │ 2024-04-23 00:00:00 │ Rua do Mercado, 12           │ Resende    │ SP      │\n",
       "│ 1d25f6cd08da48e6d0bea0c8361896f3 │ 2024-04-23 00:00:00 │ 305 - 14th Ave. S. Suite 3B  │ Seattle    │ WA      │\n",
       "│ 796db1690b71574d2f17bd964fcb8089 │ 2024-04-23 00:00:00 │ Keskuskatu 45                │ Helsinki   │ NULL    │\n",
       "│ dd10ef1b3ef64d796a59de43ad85e7ed │ 2024-04-23 00:00:00 │ ul. Filtrowa 68              │ Warszawa   │ NULL    │\n",
       "├──────────────────────────────────┴─────────────────────┴──────────────────────────────┴────────────┴─────────┤\n",
       "│ 94 rows (20 shown)                                                                                 5 columns │\n",
       "└──────────────────────────────────────────────────────────────────────────────────────────────────────────────┘"
      ]
     },
     "execution_count": 26,
     "metadata": {},
     "output_type": "execute_result"
    }
   ],
   "source": [
    "con.sql(\"select * from postgres.silver_raw_vault.SAT_Customer_Address\")"
   ]
  },
  {
   "cell_type": "markdown",
   "id": "70b77e1b-05c5-4bd0-9f6c-e36375e7a080",
   "metadata": {},
   "source": [
    "### Populando SAT_Employee"
   ]
  },
  {
   "cell_type": "code",
   "execution_count": 27,
   "id": "65d33df4-4399-4b7a-bde9-940cbeb1cf5c",
   "metadata": {},
   "outputs": [],
   "source": [
    "con.sql(\"\"\"\n",
    "        INSERT into postgres.silver_raw_vault.SAT_Employee   \n",
    "        SELECT md5(cast(employeeid as text)) as Hash_Key_Employee, current_date as Dt_Load,lastname, firstname,title,birthdate,hiredate  FROM postgres.bronze.employees\n",
    "    \"\"\")"
   ]
  },
  {
   "cell_type": "code",
   "execution_count": 28,
   "id": "2304ee81-e717-41ed-a68b-0340a4ad62d0",
   "metadata": {},
   "outputs": [
    {
     "data": {
      "text/plain": [
       "┌──────────────────────┬─────────────────────┬───────────┬────────────┬──────────────────────┬────────────┬────────────┐\n",
       "│  Hash_Key_Employee   │       Dt_Load       │ Last_Name │ First_Name │  Title_Of_Courtesy   │ Birth_Date │ Hire_Date  │\n",
       "│       varchar        │      timestamp      │  varchar  │  varchar   │       varchar        │    date    │    date    │\n",
       "├──────────────────────┼─────────────────────┼───────────┼────────────┼──────────────────────┼────────────┼────────────┤\n",
       "│ c4ca4238a0b923820d…  │ 2024-04-23 00:00:00 │ Davolio   │ Nancy      │ Sales Representative │ 1948-12-08 │ 1992-05-01 │\n",
       "│ c81e728d9d4c2f636f…  │ 2024-04-23 00:00:00 │ Fuller    │ Andrew     │ Vice President, Sa…  │ 1952-02-19 │ 1992-08-14 │\n",
       "│ eccbc87e4b5ce2fe28…  │ 2024-04-23 00:00:00 │ Leverling │ Janet      │ Sales Representative │ 1963-08-30 │ 1992-04-01 │\n",
       "│ a87ff679a2f3e71d91…  │ 2024-04-23 00:00:00 │ Peacock   │ Margaret   │ Sales Representative │ 1937-09-19 │ 1993-05-03 │\n",
       "│ e4da3b7fbbce2345d7…  │ 2024-04-23 00:00:00 │ Buchanan  │ Steven     │ Sales Manager        │ 1955-03-04 │ 1993-10-17 │\n",
       "│ 1679091c5a880faf6f…  │ 2024-04-23 00:00:00 │ Suyama    │ Michael    │ Sales Representative │ 1963-07-02 │ 1993-10-17 │\n",
       "│ 8f14e45fceea167a5a…  │ 2024-04-23 00:00:00 │ King      │ Robert     │ Sales Representative │ 1960-05-29 │ 1994-01-02 │\n",
       "│ c9f0f895fb98ab9159…  │ 2024-04-23 00:00:00 │ Callahan  │ Laura      │ Inside Sales Coord…  │ 1958-01-09 │ 1994-03-05 │\n",
       "│ 45c48cce2e2d7fbdea…  │ 2024-04-23 00:00:00 │ Dodsworth │ Anne       │ Sales Representative │ 1966-01-27 │ 1994-11-15 │\n",
       "└──────────────────────┴─────────────────────┴───────────┴────────────┴──────────────────────┴────────────┴────────────┘"
      ]
     },
     "execution_count": 28,
     "metadata": {},
     "output_type": "execute_result"
    }
   ],
   "source": [
    "con.sql(\"select * from postgres.silver_raw_vault.SAT_Employee\")"
   ]
  },
  {
   "cell_type": "markdown",
   "id": "a19fb331-5d41-4d06-a44f-2ad7216bba68",
   "metadata": {},
   "source": [
    "### Populando SAT_Employee_Address"
   ]
  },
  {
   "cell_type": "code",
   "execution_count": 29,
   "id": "a55bd051-4f37-4f50-a021-1be57c055228",
   "metadata": {},
   "outputs": [],
   "source": [
    "con.sql(\"\"\"\n",
    "        INSERT into postgres.silver_raw_vault.SAT_Employee_Address   \n",
    "        SELECT md5(cast(employeeid as text)) as Hash_Key_Employee, current_date as Dt_Load, Address,City, Region FROM postgres.bronze.employees\n",
    "\n",
    "    \"\"\")"
   ]
  },
  {
   "cell_type": "code",
   "execution_count": 30,
   "id": "f8e0992d-c368-48f0-9fef-f3aff8c2c1bf",
   "metadata": {
    "scrolled": true
   },
   "outputs": [
    {
     "data": {
      "text/plain": [
       "┌──────────────────────────────────┬─────────────────────┬───────────────────────────────┬──────────┬─────────┐\n",
       "│        Hash_Key_Employee         │       Dt_Load       │            Address            │   City   │ Region  │\n",
       "│             varchar              │      timestamp      │            varchar            │ varchar  │ varchar │\n",
       "├──────────────────────────────────┼─────────────────────┼───────────────────────────────┼──────────┼─────────┤\n",
       "│ c4ca4238a0b923820dcc509a6f75849b │ 2024-04-23 00:00:00 │ 507 - 20th Ave. E.Apt. 2A     │ Seattle  │ WA      │\n",
       "│ c81e728d9d4c2f636f067f89cc14862c │ 2024-04-23 00:00:00 │ 908 W. Capital Way            │ Tacoma   │ WA      │\n",
       "│ eccbc87e4b5ce2fe28308fd9f2a7baf3 │ 2024-04-23 00:00:00 │ 722 Moss Bay Blvd.            │ Kirkland │ WA      │\n",
       "│ a87ff679a2f3e71d9181a67b7542122c │ 2024-04-23 00:00:00 │ 4110 Old Redmond Rd.          │ Redmond  │ WA      │\n",
       "│ e4da3b7fbbce2345d7772b0674a318d5 │ 2024-04-23 00:00:00 │ 14 Garrett Hill               │ London   │ NULL    │\n",
       "│ 1679091c5a880faf6fb5e6087eb1b2dc │ 2024-04-23 00:00:00 │ Coventry House Miner Rd.      │ London   │ NULL    │\n",
       "│ 8f14e45fceea167a5a36dedd4bea2543 │ 2024-04-23 00:00:00 │ Edgeham Hollow Winchester Way │ London   │ NULL    │\n",
       "│ c9f0f895fb98ab9159f51fd0297e236d │ 2024-04-23 00:00:00 │ 4726 - 11th Ave. N.E.         │ Seattle  │ WA      │\n",
       "│ 45c48cce2e2d7fbdea1afc51c7c6ad26 │ 2024-04-23 00:00:00 │ 7 Houndstooth Rd.             │ London   │ NULL    │\n",
       "└──────────────────────────────────┴─────────────────────┴───────────────────────────────┴──────────┴─────────┘"
      ]
     },
     "execution_count": 30,
     "metadata": {},
     "output_type": "execute_result"
    }
   ],
   "source": [
    "con.sql(\"select * from postgres.silver_raw_vault.SAT_Employee_Address\")"
   ]
  },
  {
   "cell_type": "markdown",
   "id": "1d727568-853d-41ec-86f3-f9e7d5a2b182",
   "metadata": {},
   "source": [
    "### Populando SAT_Orders"
   ]
  },
  {
   "cell_type": "code",
   "execution_count": 13,
   "id": "ec5abf9d-6768-4761-93da-cebad793e4de",
   "metadata": {},
   "outputs": [],
   "source": [
    "con.sql(\"\"\"\n",
    "        INSERT into postgres.silver_raw_vault.SAT_Orders  \n",
    "        SELECT \n",
    "        \tmd5(cast(orderid as text)) as Hash_Key_Order, \n",
    "        \tcurrent_date as Dt_Load, \n",
    "            RIGHT(LEFT(orderdate,10),4)|| '-'|| RIGHT(LEFT(orderdate,5),2)|| '-'||LEFT(orderdate,2) orderdate,\n",
    "        \tRIGHT(LEFT(requireddate,10),4)|| '-'|| RIGHT(LEFT(requireddate,5),2)|| '-'||LEFT(requireddate,2) requireddate,\n",
    "        \tRIGHT(LEFT(shippeddate,10),4)|| '-'|| RIGHT(LEFT(shippeddate,5),2)|| '-'||LEFT(shippeddate,2) shippeddate\n",
    "        \t\n",
    "        FROM postgres.bronze.orders\n",
    "    \"\"\")"
   ]
  },
  {
   "cell_type": "code",
   "execution_count": 15,
   "id": "c1ba7731-b57a-4c70-9428-17e82f2100cb",
   "metadata": {},
   "outputs": [
    {
     "data": {
      "text/plain": [
       "┌──────────────────────────────────┬─────────────────────┬────────────┬───────────────┬──────────────┐\n",
       "│          Hash_Key_Order          │       Dt_Load       │ Order_Date │ required_date │ shipped_date │\n",
       "│             varchar              │      timestamp      │    date    │     date      │     date     │\n",
       "├──────────────────────────────────┼─────────────────────┼────────────┼───────────────┼──────────────┤\n",
       "│ cfdf55d9c4687ca7b7d9b2d2b997135f │ 2024-04-24 00:00:00 │ 2020-07-04 │ 2020-08-01    │ 2020-07-16   │\n",
       "│ 28fda3e1d182e68d525267166df815af │ 2024-04-24 00:00:00 │ 2020-07-05 │ 2020-08-16    │ 2020-07-10   │\n",
       "│ 183f50a7700982a3ed18ff6d7a5777bf │ 2024-04-24 00:00:00 │ 2020-07-08 │ 2020-08-05    │ 2020-07-12   │\n",
       "│ 5802616ab4339506fd33d45bfde3884b │ 2024-04-24 00:00:00 │ 2020-07-08 │ 2020-08-05    │ 2020-07-15   │\n",
       "│ b1da5960a28a9deb6af4e028880d625b │ 2024-04-24 00:00:00 │ 2020-07-09 │ 2020-08-06    │ 2020-07-11   │\n",
       "│ 2737a91408afcc2526e348105892dd3a │ 2024-04-24 00:00:00 │ 2020-07-10 │ 2020-07-24    │ 2020-07-16   │\n",
       "│ 805b74daca86ea2e20ca9c166ee52f9e │ 2024-04-24 00:00:00 │ 2020-07-11 │ 2020-08-08    │ 2020-07-23   │\n",
       "│ d093e56ef752adba41e5eaf26d1960a7 │ 2024-04-24 00:00:00 │ 2020-07-12 │ 2020-08-09    │ 2020-07-15   │\n",
       "│ 7463afe23eae7efe3c72737a5d3d693f │ 2024-04-24 00:00:00 │ 2020-07-15 │ 2020-08-12    │ 2020-07-17   │\n",
       "│ 9578a63fbe545bd82cc5bbe749636af1 │ 2024-04-24 00:00:00 │ 2020-07-16 │ 2020-08-13    │ 2020-07-22   │\n",
       "│                ·                 │          ·          │     ·      │     ·         │     ·        │\n",
       "│                ·                 │          ·          │     ·      │     ·         │     ·        │\n",
       "│                ·                 │          ·          │     ·      │     ·         │     ·        │\n",
       "│ aa5fb316032860bad4c453c010a2c859 │ 2024-04-24 00:00:00 │ 2022-05-04 │ 2022-06-01    │ 2022-05-04   │\n",
       "│ 2bc4cdc1b8653fb1a7c3213c0a9bf1bd │ 2024-04-24 00:00:00 │ 2022-05-04 │ 2022-06-01    │ 2022-05-06   │\n",
       "│ 441d9b1d721e29971edc93bca39bf497 │ 2024-04-24 00:00:00 │ 2022-05-05 │ 2022-06-02    │ 2022-05-06   │\n",
       "│ 7e2674f6f4343ce9f635b86d124851ce │ 2024-04-24 00:00:00 │ 2022-05-05 │ 2022-06-02    │ 2022-05-06   │\n",
       "│ f51338d736f95dd42427296047067694 │ 2024-04-24 00:00:00 │ 2022-05-05 │ 2022-06-02    │ 2022-05-06   │\n",
       "│ 840348ae33163924c1d29fd2c22faf13 │ 2024-04-24 00:00:00 │ 2022-05-05 │ 2022-06-02    │ 2022-05-06   │\n",
       "│ daecf755df5b1d637033bb29b319c39a │ 2024-04-24 00:00:00 │ 2022-05-06 │ 2022-06-03    │ 2022-05-06   │\n",
       "│ 5c528e25e1fdeaf9d8160dc24dbf4d60 │ 2024-04-24 00:00:00 │ 2022-05-06 │ 2022-06-03    │ 2022-05-06   │\n",
       "│ 96b8294326cb6595573cf2689f3f6dda │ 2024-04-24 00:00:00 │ 2022-05-06 │ 2022-06-03    │ 2022-05-06   │\n",
       "│ 644c87da09444b4942bef3299de94372 │ 2024-04-24 00:00:00 │ 2022-05-06 │ 2022-06-03    │ 2022-05-06   │\n",
       "├──────────────────────────────────┴─────────────────────┴────────────┴───────────────┴──────────────┤\n",
       "│ 830 rows (20 shown)                                                                      5 columns │\n",
       "└────────────────────────────────────────────────────────────────────────────────────────────────────┘"
      ]
     },
     "execution_count": 15,
     "metadata": {},
     "output_type": "execute_result"
    }
   ],
   "source": [
    "con.sql(\"select * from postgres.silver_raw_vault.SAT_Orders \")"
   ]
  },
  {
   "cell_type": "markdown",
   "id": "ea7cd112-bae5-42cc-becd-b1194bed7c07",
   "metadata": {},
   "source": [
    "### Populando SAT_Order_Details"
   ]
  },
  {
   "cell_type": "code",
   "execution_count": 27,
   "id": "47b351a1-16fb-4319-b510-39a0fd653655",
   "metadata": {},
   "outputs": [],
   "source": [
    "con.sql(\"\"\"\n",
    "        INSERT into postgres.silver_raw_vault.SAT_Orders_Details  \n",
    "        SELECT \n",
    "        \tmd5(cast(orderid as text) || cast(productid as text)) as Hash_Key_Link_P_O, \n",
    "        \tcurrent_date as Dt_Load, \n",
    "        \tunitprice,\n",
    "        \tquantity,\n",
    "        \tdiscount\n",
    "        FROM postgres.bronze.orderdetails\n",
    "    \"\"\")"
   ]
  },
  {
   "cell_type": "code",
   "execution_count": 28,
   "id": "dcc235fc-d8dc-4035-832f-b0a06e92785f",
   "metadata": {},
   "outputs": [
    {
     "data": {
      "text/plain": [
       "┌──────────────────────────────────┬─────────────────────┬─────────────┬──────────┬──────────┐\n",
       "│          Hash_Key_Order          │       Dt_Load       │ Unity_Price │ Quantity │ Discount │\n",
       "│             varchar              │      timestamp      │   double    │  int32   │  double  │\n",
       "├──────────────────────────────────┼─────────────────────┼─────────────┼──────────┼──────────┤\n",
       "│ 7f175fbebe024d5ad754bb77f5fd0b3a │ 2024-04-24 00:00:00 │        14.0 │       12 │      0.0 │\n",
       "│ bdf4e55822688bf9e29c3038b726698e │ 2024-04-24 00:00:00 │         9.8 │       10 │      0.0 │\n",
       "│ cce29010ff301607f09f70d76d95041e │ 2024-04-24 00:00:00 │        34.8 │        5 │      0.0 │\n",
       "│ cee360c9041a87deb7cdfcafb5e7d126 │ 2024-04-24 00:00:00 │        18.6 │        9 │      0.0 │\n",
       "│ b1131dc8ff368de50fb924843754c780 │ 2024-04-24 00:00:00 │        42.4 │       40 │      0.0 │\n",
       "│ 7d2123d8fa4ac5783d1b83a30ef28035 │ 2024-04-24 00:00:00 │         7.7 │       10 │      0.0 │\n",
       "│ 91f55e2429b93c59fbfff663d2a99f1a │ 2024-04-24 00:00:00 │        42.4 │       35 │      0.0 │\n",
       "│ 68a6285e9cb2574aebada69a4b3c50f6 │ 2024-04-24 00:00:00 │        16.8 │       15 │      0.0 │\n",
       "│ 05f700f5711911767872e267b59c9000 │ 2024-04-24 00:00:00 │        16.8 │        6 │      0.0 │\n",
       "│ 7d29eb964e5f45c46783c68b33f0a3fc │ 2024-04-24 00:00:00 │        15.6 │       15 │      0.0 │\n",
       "│                ·                 │          ·          │          ·  │        · │       ·  │\n",
       "│                ·                 │          ·          │          ·  │        · │       ·  │\n",
       "│                ·                 │          ·          │          ·  │        · │       ·  │\n",
       "│ 992c6b133bbdb8c7d0e2df91667fc1e4 │ 2024-04-24 00:00:00 │        9.65 │        3 │      0.0 │\n",
       "│ 1165efad697e59cc2caacb076594c959 │ 2024-04-24 00:00:00 │        12.0 │        3 │      0.0 │\n",
       "│ d59ba33c9934a1a148fc5aa5e1d83dc6 │ 2024-04-24 00:00:00 │         7.0 │        2 │      0.0 │\n",
       "│ a9a2668fcb8bb644c4193d3726bbb771 │ 2024-04-24 00:00:00 │        24.0 │        2 │      0.0 │\n",
       "│ 4897031415833bc2dcf245f861127d33 │ 2024-04-24 00:00:00 │        34.0 │        2 │      0.0 │\n",
       "│ 6ace60c7af68ceb102059916f32c8298 │ 2024-04-24 00:00:00 │       33.25 │        2 │      0.0 │\n",
       "│ 378a9f3555b53168892266523bf57ab4 │ 2024-04-24 00:00:00 │        17.0 │        1 │      0.0 │\n",
       "│ 0f5f20b2d50c0a2a66e9d8faf2b6604e │ 2024-04-24 00:00:00 │        15.0 │        2 │      0.0 │\n",
       "│ 277c5ac0fa3f2d1da5ba7e815ce3cec7 │ 2024-04-24 00:00:00 │        7.75 │        4 │      0.0 │\n",
       "│ 95456c22ca763288dbaee0b69b6e8476 │ 2024-04-24 00:00:00 │        13.0 │        2 │      0.0 │\n",
       "├──────────────────────────────────┴─────────────────────┴─────────────┴──────────┴──────────┤\n",
       "│ 2155 rows (20 shown)                                                             5 columns │\n",
       "└────────────────────────────────────────────────────────────────────────────────────────────┘"
      ]
     },
     "execution_count": 28,
     "metadata": {},
     "output_type": "execute_result"
    }
   ],
   "source": [
    "con.sql(\"select * from postgres.silver_raw_vault.SAT_Orders_Details\")"
   ]
  },
  {
   "cell_type": "markdown",
   "id": "5b6f2fdc-70d8-4209-8c51-d9cc588f49f7",
   "metadata": {},
   "source": [
    "### Populando SAT_Products"
   ]
  },
  {
   "cell_type": "code",
   "execution_count": 34,
   "id": "8095c2f5-a8ac-4cf0-8c92-c245ce8a493b",
   "metadata": {},
   "outputs": [],
   "source": [
    "con.sql(\"\"\"\n",
    "        INSERT into postgres.silver_raw_vault.SAT_Product  \n",
    "        SELECT md5(cast(productid as text)) as Hash_Key_Product, \n",
    "\t\t\tcurrent_date as Dt_Load, \n",
    "\t\t\tp.productname,\n",
    "\t\t\tc.categoryid,\n",
    "\t\t\tc.categoryname,\n",
    "\t\t\ts.supplierid,\n",
    "\t\t\ts.companyname \n",
    "        FROM postgres.bronze.products p\n",
    "        left join postgres.bronze.categories c on p.categoryid = c.categoryid\n",
    "        left join postgres.bronze.suppliers s on p.supplierid = s.supplierid \n",
    "    \"\"\")"
   ]
  },
  {
   "cell_type": "code",
   "execution_count": 35,
   "id": "87287279-1b97-4d2b-b85f-2b1ce1999094",
   "metadata": {},
   "outputs": [
    {
     "data": {
      "text/plain": [
       "┌──────────────────────┬─────────────────────┬───┬────────────────┬─────────────┬──────────────────────┐\n",
       "│   Hash_Key_Product   │       Dt_Load       │ … │ Category_Name  │ Supplier_ID │    Supplier_Name     │\n",
       "│       varchar        │      timestamp      │   │    varchar     │    int32    │       varchar        │\n",
       "├──────────────────────┼─────────────────────┼───┼────────────────┼─────────────┼──────────────────────┤\n",
       "│ c4ca4238a0b923820d…  │ 2024-04-23 00:00:00 │ … │ Beverages      │           1 │ Exotic Liquids       │\n",
       "│ c81e728d9d4c2f636f…  │ 2024-04-23 00:00:00 │ … │ Beverages      │           1 │ Exotic Liquids       │\n",
       "│ eccbc87e4b5ce2fe28…  │ 2024-04-23 00:00:00 │ … │ Condiments     │           1 │ Exotic Liquids       │\n",
       "│ a87ff679a2f3e71d91…  │ 2024-04-23 00:00:00 │ … │ Condiments     │           2 │ New Orleans Cajun …  │\n",
       "│ e4da3b7fbbce2345d7…  │ 2024-04-23 00:00:00 │ … │ Condiments     │           2 │ New Orleans Cajun …  │\n",
       "│ 1679091c5a880faf6f…  │ 2024-04-23 00:00:00 │ … │ Condiments     │           3 │ Grandma Kelly's Ho…  │\n",
       "│ 8f14e45fceea167a5a…  │ 2024-04-23 00:00:00 │ … │ Produce        │           3 │ Grandma Kelly's Ho…  │\n",
       "│ c9f0f895fb98ab9159…  │ 2024-04-23 00:00:00 │ … │ Condiments     │           3 │ Grandma Kelly's Ho…  │\n",
       "│ 45c48cce2e2d7fbdea…  │ 2024-04-23 00:00:00 │ … │ Meat/Poultry   │           4 │ Tokyo Traders        │\n",
       "│ d3d9446802a4425975…  │ 2024-04-23 00:00:00 │ … │ Seafood        │           4 │ Tokyo Traders        │\n",
       "│          ·           │          ·          │ · │    ·           │           · │       ·              │\n",
       "│          ·           │          ·          │ · │    ·           │           · │       ·              │\n",
       "│          ·           │          ·          │ · │    ·           │           · │       ·              │\n",
       "│ a3f390d88e4c41f274…  │ 2024-04-23 00:00:00 │ … │ Confections    │           8 │ Specialty Biscuits…  │\n",
       "│ 14bfa6bb14875e45bb…  │ 2024-04-23 00:00:00 │ … │ Dairy Products │          15 │ Norske Meierier      │\n",
       "│ 7cbbc409ec990f19c7…  │ 2024-04-23 00:00:00 │ … │ Beverages      │           7 │ Pavlova, Ltd.        │\n",
       "│ e2c420d928d4bf8ce0…  │ 2024-04-23 00:00:00 │ … │ Dairy Products │          15 │ Norske Meierier      │\n",
       "│ 32bb90e8976aab5298…  │ 2024-04-23 00:00:00 │ … │ Dairy Products │          14 │ Formaggi Fortini s…  │\n",
       "│ d2ddea18f00665ce86…  │ 2024-04-23 00:00:00 │ … │ Seafood        │          17 │ Svensk Sjfda AB      │\n",
       "│ ad61ab143223efbc24…  │ 2024-04-23 00:00:00 │ … │ Produce        │           4 │ Tokyo Traders        │\n",
       "│ d09bf41544a3365a46…  │ 2024-04-23 00:00:00 │ … │ Beverages      │          12 │ Plutzer Lebensmitt…  │\n",
       "│ fbd7939d674997cdb4…  │ 2024-04-23 00:00:00 │ … │ Beverages      │          23 │ Karkki Oy            │\n",
       "│ 28dd2c7955ce926456…  │ 2024-04-23 00:00:00 │ … │ Condiments     │          12 │ Plutzer Lebensmitt…  │\n",
       "├──────────────────────┴─────────────────────┴───┴────────────────┴─────────────┴──────────────────────┤\n",
       "│ 77 rows (20 shown)                                                               7 columns (5 shown) │\n",
       "└──────────────────────────────────────────────────────────────────────────────────────────────────────┘"
      ]
     },
     "execution_count": 35,
     "metadata": {},
     "output_type": "execute_result"
    }
   ],
   "source": [
    "con.sql(\"select * from postgres.silver_raw_vault.SAT_Product \")"
   ]
  },
  {
   "cell_type": "markdown",
   "id": "2aa3a08f-877e-4f78-8fa9-99f799142869",
   "metadata": {},
   "source": [
    "### Populando SAT_Shipper"
   ]
  },
  {
   "cell_type": "code",
   "execution_count": 5,
   "id": "356f1e98-d045-42f2-8525-d5cc9c2a9ac6",
   "metadata": {},
   "outputs": [],
   "source": [
    "con.sql(\"\"\"\n",
    "        INSERT into postgres.silver_raw_vault.SAT_Shipper  \n",
    "        SELECT md5(cast(shipperid as text)) as Hash_Key_Shipper, \n",
    "\t\t\tcurrent_date as Dt_Load, \n",
    "\t\t\tcompanyname,\n",
    "\t\t\tphone\n",
    "        FROM postgres.bronze.shippers\n",
    "    \"\"\")"
   ]
  },
  {
   "cell_type": "code",
   "execution_count": 6,
   "id": "5e770c15-1e4e-461c-a631-30a4ee7765a8",
   "metadata": {},
   "outputs": [
    {
     "data": {
      "text/plain": [
       "┌──────────────────────────────────┬─────────────────────┬──────────────────┬────────────────┐\n",
       "│         Hash_Key_Shipper         │       Dt_Load       │   Company_Name   │     Phone      │\n",
       "│             varchar              │      timestamp      │     varchar      │    varchar     │\n",
       "├──────────────────────────────────┼─────────────────────┼──────────────────┼────────────────┤\n",
       "│ c4ca4238a0b923820dcc509a6f75849b │ 2024-04-24 00:00:00 │ Speedy Express   │ (503) 555-9831 │\n",
       "│ c81e728d9d4c2f636f067f89cc14862c │ 2024-04-24 00:00:00 │ United Package   │ (503) 555-3199 │\n",
       "│ eccbc87e4b5ce2fe28308fd9f2a7baf3 │ 2024-04-24 00:00:00 │ Federal Shipping │ (503) 555-9931 │\n",
       "└──────────────────────────────────┴─────────────────────┴──────────────────┴────────────────┘"
      ]
     },
     "execution_count": 6,
     "metadata": {},
     "output_type": "execute_result"
    }
   ],
   "source": [
    "con.sql(\"select * from postgres.silver_raw_vault.SAT_Shipper\")"
   ]
  },
  {
   "cell_type": "markdown",
   "id": "5baf8613-6bf3-438b-b3d2-8355de079e08",
   "metadata": {},
   "source": [
    "#### FIM SATÉLITES"
   ]
  },
  {
   "cell_type": "markdown",
   "id": "63a7fb6d-79a2-4288-97b0-5f12e90ee77b",
   "metadata": {},
   "source": [
    "### Populando LINK_Custumers_Orders"
   ]
  },
  {
   "cell_type": "code",
   "execution_count": 37,
   "id": "08fa1779-3572-4f67-8c21-697720cb47c3",
   "metadata": {},
   "outputs": [],
   "source": [
    "con.sql(\"\"\"\n",
    "        INSERT into postgres.silver_raw_vault.LINK_Customers_Orders\n",
    "        SELECT \n",
    "        \t   md5(cast(o.orderid as text) || cast(o.customerid as text)) as \"Hash_Key_Link_P_O\",\n",
    "        \t   md5(cast(o.orderid as text)) as Hash_Key_Orders, \n",
    "        \t   md5(cast(o.customerid as text)) as Hash_Key_Customers,\n",
    "        \t   current_date as Dt_Load,\n",
    "        \t   'kaggle-postgres' as Source\n",
    "        FROM postgres.bronze.orders o\n",
    "        inner join postgres.bronze.customers c on o.customerid = c.customerid \n",
    "    \"\"\")"
   ]
  },
  {
   "cell_type": "code",
   "execution_count": 38,
   "id": "9e890504-0155-4fc1-ac8c-bd8898d23a8e",
   "metadata": {},
   "outputs": [
    {
     "data": {
      "text/plain": [
       "┌──────────────────────┬──────────────────────┬────────────────────────────────┬─────────────────────┬─────────────────┐\n",
       "│  Hash_Key_Link_C_O   │   Hash_Key_Orders    │       Hash_Key_Customer        │       Dt_Load       │     Source      │\n",
       "│       varchar        │       varchar        │            varchar             │      timestamp      │     varchar     │\n",
       "├──────────────────────┼──────────────────────┼────────────────────────────────┼─────────────────────┼─────────────────┤\n",
       "│ ab5b727c74d99fa5d1…  │ cfdf55d9c4687ca7b7…  │ 369aacdc152e982e657b6b738ee5…  │ 2024-04-23 00:00:00 │ kaggle-postgres │\n",
       "│ 71e16c25bd58276d8c…  │ 28fda3e1d182e68d52…  │ e337091ed542cb74f972b72f5ab8…  │ 2024-04-23 00:00:00 │ kaggle-postgres │\n",
       "│ f585afb96b6a5e2c9b…  │ 183f50a7700982a3ed…  │ faee608efb204ef3a9c46d4f87f4…  │ 2024-04-23 00:00:00 │ kaggle-postgres │\n",
       "│ 1ba757f7871ab731d3…  │ b1da5960a28a9deb6a…  │ 81b2b99da6cc8443142b533de61d…  │ 2024-04-23 00:00:00 │ kaggle-postgres │\n",
       "│ 60b98238baec242f1c…  │ 2737a91408afcc2526…  │ faee608efb204ef3a9c46d4f87f4…  │ 2024-04-23 00:00:00 │ kaggle-postgres │\n",
       "│ 43a6a8fd3c3526ff02…  │ 805b74daca86ea2e20…  │ e28e91c6550351dc15a993924095…  │ 2024-04-23 00:00:00 │ kaggle-postgres │\n",
       "│ 8a940c99cea7281b67…  │ d093e56ef752adba41…  │ 544586a7cd6b9390939c6ec51808…  │ 2024-04-23 00:00:00 │ kaggle-postgres │\n",
       "│ d7960e0bbcba70b0b3…  │ 7463afe23eae7efe3c…  │ 46cf84d32a52ef647870b5d54430…  │ 2024-04-23 00:00:00 │ kaggle-postgres │\n",
       "│ 0068975093796cb90e…  │ 9578a63fbe545bd82c…  │ a25d7e5cf6afcd8960355dd56082…  │ 2024-04-23 00:00:00 │ kaggle-postgres │\n",
       "│ 27f02e9db08fc89b0d…  │ bd21307bad44dee908…  │ d1d88c9adb3a4054f8296fc59e63…  │ 2024-04-23 00:00:00 │ kaggle-postgres │\n",
       "│          ·           │          ·           │               ·                │          ·          │        ·        │\n",
       "│          ·           │          ·           │               ·                │          ·          │        ·        │\n",
       "│          ·           │          ·           │               ·                │          ·          │        ·        │\n",
       "│ ac43ef6baea4007c68…  │ 0e44b9cabecbb5af04…  │ d7cdea7aa0b8420d9443ce76f1ca…  │ 2024-04-23 00:00:00 │ kaggle-postgres │\n",
       "│ 922ada3572efc6df94…  │ 6534a8436e907efb0c…  │ 0a2d9597a25142c8200ebbd3eff7…  │ 2024-04-23 00:00:00 │ kaggle-postgres │\n",
       "│ c7055023173a743ad0…  │ 9e9e1b7ea4e250af8f…  │ 40adc142ad48078590db4af8c93a…  │ 2024-04-23 00:00:00 │ kaggle-postgres │\n",
       "│ 736cce4ee606c6daff…  │ 2ffe95614e083e7091…  │ 40adc142ad48078590db4af8c93a…  │ 2024-04-23 00:00:00 │ kaggle-postgres │\n",
       "│ c9a199afd296a5618f…  │ 709491516820c9f43b…  │ 40adc142ad48078590db4af8c93a…  │ 2024-04-23 00:00:00 │ kaggle-postgres │\n",
       "│ 224ff100618349c014…  │ 7ca5eb06feca2d4d20…  │ 40adc142ad48078590db4af8c93a…  │ 2024-04-23 00:00:00 │ kaggle-postgres │\n",
       "│ b6a095567dcfe1e7b5…  │ 218344619d8fb95d50…  │ 40adc142ad48078590db4af8c93a…  │ 2024-04-23 00:00:00 │ kaggle-postgres │\n",
       "│ 85f9b7c0c4e1d6ebcd…  │ 520bae6649b42ff5a3…  │ 40adc142ad48078590db4af8c93a…  │ 2024-04-23 00:00:00 │ kaggle-postgres │\n",
       "│ ea7625ef8f123d9856…  │ 64254db8396e404d92…  │ 40adc142ad48078590db4af8c93a…  │ 2024-04-23 00:00:00 │ kaggle-postgres │\n",
       "│ 4b6e08a3b45cdecfe5…  │ ff1f3e444a6ff6fe87…  │ 40adc142ad48078590db4af8c93a…  │ 2024-04-23 00:00:00 │ kaggle-postgres │\n",
       "├──────────────────────┴──────────────────────┴────────────────────────────────┴─────────────────────┴─────────────────┤\n",
       "│ 830 rows (20 shown)                                                                                        5 columns │\n",
       "└──────────────────────────────────────────────────────────────────────────────────────────────────────────────────────┘"
      ]
     },
     "execution_count": 38,
     "metadata": {},
     "output_type": "execute_result"
    }
   ],
   "source": [
    "con.sql(\"select * from postgres.silver_raw_vault.LINK_Customers_Orders\")"
   ]
  },
  {
   "cell_type": "markdown",
   "id": "b84fc8da-22f5-4791-8a08-c116783f5c7a",
   "metadata": {},
   "source": [
    "### Populando LINK_Employees_Orders"
   ]
  },
  {
   "cell_type": "code",
   "execution_count": 39,
   "id": "d056d073-9796-4823-b8d8-626d5d34fc34",
   "metadata": {},
   "outputs": [],
   "source": [
    "con.sql(\"\"\"\n",
    "        INSERT into postgres.silver_raw_vault.LINK_Employee_Orders\n",
    "        SELECT \n",
    "        \t   md5(cast(o.orderid as text) || cast(o.employeeid as text)) as \"Hash_Key_Link_P_O\",\n",
    "        \t   md5(cast(o.orderid as text)) as Hash_Key_Orders, \n",
    "        \t   md5(cast(o.employeeid as text)) as Hash_Key_Employee,\n",
    "        \t   current_date as Dt_Load,\n",
    "        \t   'kaggle-postgres' as Source\n",
    "        FROM postgres.bronze.orders o\n",
    "        inner join postgres.bronze.employees e on o.employeeid = e.employeeid \n",
    "    \"\"\")"
   ]
  },
  {
   "cell_type": "code",
   "execution_count": 40,
   "id": "fe0339a4-6f30-4fc4-b113-2efcc4c3bc7f",
   "metadata": {
    "scrolled": true
   },
   "outputs": [
    {
     "data": {
      "text/plain": [
       "┌──────────────────────┬──────────────────────┬────────────────────────────────┬─────────────────────┬─────────────────┐\n",
       "│  Hash_Key_Link_E_O   │   Hash_Key_Orders    │       Hash_Key_Employee        │       Dt_Load       │     Source      │\n",
       "│       varchar        │       varchar        │            varchar             │      timestamp      │     varchar     │\n",
       "├──────────────────────┼──────────────────────┼────────────────────────────────┼─────────────────────┼─────────────────┤\n",
       "│ 0a1595cacaa6446fb5…  │ cfdf55d9c4687ca7b7…  │ e4da3b7fbbce2345d7772b0674a3…  │ 2024-04-23 00:00:00 │ kaggle-postgres │\n",
       "│ f4ea93b7fcbb667a17…  │ 28fda3e1d182e68d52…  │ 1679091c5a880faf6fb5e6087eb1…  │ 2024-04-23 00:00:00 │ kaggle-postgres │\n",
       "│ 069546d93a98077c46…  │ 183f50a7700982a3ed…  │ a87ff679a2f3e71d9181a67b7542…  │ 2024-04-23 00:00:00 │ kaggle-postgres │\n",
       "│ f4b365faac47ed901d…  │ 5802616ab4339506fd…  │ eccbc87e4b5ce2fe28308fd9f2a7…  │ 2024-04-23 00:00:00 │ kaggle-postgres │\n",
       "│ 7f7e1bb4edc6692b0f…  │ b1da5960a28a9deb6a…  │ a87ff679a2f3e71d9181a67b7542…  │ 2024-04-23 00:00:00 │ kaggle-postgres │\n",
       "│ 78257e3ded5c6a3a8c…  │ 2737a91408afcc2526…  │ eccbc87e4b5ce2fe28308fd9f2a7…  │ 2024-04-23 00:00:00 │ kaggle-postgres │\n",
       "│ b9754d094b6c9d34a3…  │ 805b74daca86ea2e20…  │ e4da3b7fbbce2345d7772b0674a3…  │ 2024-04-23 00:00:00 │ kaggle-postgres │\n",
       "│ 519b02fcf268e5bb1c…  │ d093e56ef752adba41…  │ 45c48cce2e2d7fbdea1afc51c7c6…  │ 2024-04-23 00:00:00 │ kaggle-postgres │\n",
       "│ e63c2bb5ffd8685603…  │ 7463afe23eae7efe3c…  │ eccbc87e4b5ce2fe28308fd9f2a7…  │ 2024-04-23 00:00:00 │ kaggle-postgres │\n",
       "│ 87c23c9f6fb6ef7067…  │ 9578a63fbe545bd82c…  │ a87ff679a2f3e71d9181a67b7542…  │ 2024-04-23 00:00:00 │ kaggle-postgres │\n",
       "│          ·           │          ·           │               ·                │          ·          │        ·        │\n",
       "│          ·           │          ·           │               ·                │          ·          │        ·        │\n",
       "│          ·           │          ·           │               ·                │          ·          │        ·        │\n",
       "│ 990905356f57edd74c…  │ aa5fb316032860bad4…  │ c9f0f895fb98ab9159f51fd0297e…  │ 2024-04-23 00:00:00 │ kaggle-postgres │\n",
       "│ 0f54ed24f89e5c8f67…  │ 2bc4cdc1b8653fb1a7…  │ c4ca4238a0b923820dcc509a6f75…  │ 2024-04-23 00:00:00 │ kaggle-postgres │\n",
       "│ aa50d6506c1e1b3f03…  │ 441d9b1d721e29971e…  │ c81e728d9d4c2f636f067f89cc14…  │ 2024-04-23 00:00:00 │ kaggle-postgres │\n",
       "│ 11ec67d74d14c70dea…  │ 7e2674f6f4343ce9f6…  │ c4ca4238a0b923820dcc509a6f75…  │ 2024-04-23 00:00:00 │ kaggle-postgres │\n",
       "│ b9731fa31d6cc8c9e1…  │ f51338d736f95dd424…  │ a87ff679a2f3e71d9181a67b7542…  │ 2024-04-23 00:00:00 │ kaggle-postgres │\n",
       "│ b8d77732dc12c2c8d4…  │ 840348ae33163924c1…  │ c81e728d9d4c2f636f067f89cc14…  │ 2024-04-23 00:00:00 │ kaggle-postgres │\n",
       "│ 597dd91e6b177f3938…  │ daecf755df5b1d6370…  │ 8f14e45fceea167a5a36dedd4bea…  │ 2024-04-23 00:00:00 │ kaggle-postgres │\n",
       "│ 8aa4af35007b56c912…  │ 5c528e25e1fdeaf9d8…  │ c9f0f895fb98ab9159f51fd0297e…  │ 2024-04-23 00:00:00 │ kaggle-postgres │\n",
       "│ 977903b46ec216f94c…  │ 96b8294326cb659557…  │ a87ff679a2f3e71d9181a67b7542…  │ 2024-04-23 00:00:00 │ kaggle-postgres │\n",
       "│ 969287516324b889f8…  │ 644c87da09444b4942…  │ c4ca4238a0b923820dcc509a6f75…  │ 2024-04-23 00:00:00 │ kaggle-postgres │\n",
       "├──────────────────────┴──────────────────────┴────────────────────────────────┴─────────────────────┴─────────────────┤\n",
       "│ 830 rows (20 shown)                                                                                        5 columns │\n",
       "└──────────────────────────────────────────────────────────────────────────────────────────────────────────────────────┘"
      ]
     },
     "execution_count": 40,
     "metadata": {},
     "output_type": "execute_result"
    }
   ],
   "source": [
    "con.sql(\"select * from postgres.silver_raw_vault.LINK_Employee_Orders\")"
   ]
  },
  {
   "cell_type": "markdown",
   "id": "7466c954-ad4d-401a-82b2-a361fafdce7e",
   "metadata": {},
   "source": [
    "### Populando LINK_Products_Orderdetails"
   ]
  },
  {
   "cell_type": "code",
   "execution_count": 41,
   "id": "9dc46817-8062-44aa-93c1-06efa09d9e6b",
   "metadata": {},
   "outputs": [],
   "source": [
    "con.sql(\"\"\"\n",
    "        INSERT into postgres.silver_raw_vault.LINK_Products_Orders_Detail\n",
    "        SELECT \n",
    "        \t   md5(cast(od.orderid as text) || cast(p.productid as text)) as \"Hash_Key_Link_P_O\",\n",
    "        \t   md5(cast(od.orderid as text)) as Hash_Key_Orders, \n",
    "        \t   md5(cast(p.productid as text)) as Hash_Key_Product,\n",
    "        \t   current_date as Dt_Load,\n",
    "        \t   'kaggle-postgres' as Source\n",
    "        \n",
    "        FROM postgres.bronze.orderdetails od\n",
    "        inner join postgres.bronze.orders o on od.orderid = o.orderid\n",
    "        inner join postgres.bronze.products p on od.productid = p.productid \n",
    "    \"\"\")"
   ]
  },
  {
   "cell_type": "code",
   "execution_count": 42,
   "id": "da6f0cca-c28e-4e43-b7f0-6a7364115685",
   "metadata": {},
   "outputs": [
    {
     "data": {
      "text/plain": [
       "┌──────────────┐\n",
       "│ count_star() │\n",
       "│    int64     │\n",
       "├──────────────┤\n",
       "│         2155 │\n",
       "└──────────────┘"
      ]
     },
     "execution_count": 42,
     "metadata": {},
     "output_type": "execute_result"
    }
   ],
   "source": [
    "con.sql(\"select count(*) from postgres.silver_raw_vault.LINK_Products_Orders_Detail\")"
   ]
  },
  {
   "cell_type": "markdown",
   "id": "9329eb57-ed93-44a5-9b6b-4f5c143d2bae",
   "metadata": {},
   "source": [
    "### Populando LINK_Shippers_Orders"
   ]
  },
  {
   "cell_type": "code",
   "execution_count": 43,
   "id": "a508b8ad-ed09-460a-a5c7-996839b46f18",
   "metadata": {},
   "outputs": [],
   "source": [
    "con.sql(\"\"\"\n",
    "        INSERT into postgres.silver_raw_vault.LINK_Shipper_Orders\n",
    "        SELECT \n",
    "        \t   md5(cast(o.orderid as text) || cast(s.shipperid as text)) as \"Hash_Key_Link_P_O\",\n",
    "        \t   md5(cast(o.orderid as text)) as Hash_Key_Orders, \n",
    "        \t   md5(cast(o.shipvia as text)) as Hash_Key_Shipper,\n",
    "        \t   current_date as Dt_Load,\n",
    "        \t   'kaggle-postgres' as Source\n",
    "        FROM postgres.bronze.orders o\n",
    "        inner join postgres.bronze.shippers s on o.shipvia = s.shipperid\n",
    "    \"\"\")"
   ]
  },
  {
   "cell_type": "code",
   "execution_count": 44,
   "id": "3dd47e3a-7df6-4ff0-8c34-ee5051a33dba",
   "metadata": {},
   "outputs": [
    {
     "data": {
      "text/plain": [
       "┌──────────────────────┬──────────────────────┬────────────────────────────────┬─────────────────────┬─────────────────┐\n",
       "│  Hash_Key_Link_S_O   │   Hash_Key_Orders    │        Hash_Key_Shipper        │       Dt_Load       │     Source      │\n",
       "│       varchar        │       varchar        │            varchar             │      timestamp      │     varchar     │\n",
       "├──────────────────────┼──────────────────────┼────────────────────────────────┼─────────────────────┼─────────────────┤\n",
       "│ 7fa413de7e8daaa8f5…  │ cfdf55d9c4687ca7b7…  │ eccbc87e4b5ce2fe28308fd9f2a7…  │ 2024-04-23 00:00:00 │ kaggle-postgres │\n",
       "│ 5486bc1e779e65b225…  │ 28fda3e1d182e68d52…  │ c4ca4238a0b923820dcc509a6f75…  │ 2024-04-23 00:00:00 │ kaggle-postgres │\n",
       "│ 347f0524a8e34f5209…  │ 183f50a7700982a3ed…  │ c81e728d9d4c2f636f067f89cc14…  │ 2024-04-23 00:00:00 │ kaggle-postgres │\n",
       "│ a4ddb498bc298a589a…  │ 5802616ab4339506fd…  │ c4ca4238a0b923820dcc509a6f75…  │ 2024-04-23 00:00:00 │ kaggle-postgres │\n",
       "│ 42a27dde83690689a9…  │ b1da5960a28a9deb6a…  │ c81e728d9d4c2f636f067f89cc14…  │ 2024-04-23 00:00:00 │ kaggle-postgres │\n",
       "│ 3c82e5302aac1dcc14…  │ 2737a91408afcc2526…  │ c81e728d9d4c2f636f067f89cc14…  │ 2024-04-23 00:00:00 │ kaggle-postgres │\n",
       "│ f73170e9efbd39fea6…  │ 805b74daca86ea2e20…  │ c81e728d9d4c2f636f067f89cc14…  │ 2024-04-23 00:00:00 │ kaggle-postgres │\n",
       "│ 77d894f5604478fcd2…  │ d093e56ef752adba41…  │ eccbc87e4b5ce2fe28308fd9f2a7…  │ 2024-04-23 00:00:00 │ kaggle-postgres │\n",
       "│ 8b892d56db93421267…  │ 7463afe23eae7efe3c…  │ c81e728d9d4c2f636f067f89cc14…  │ 2024-04-23 00:00:00 │ kaggle-postgres │\n",
       "│ af017f46be20ef7d72…  │ 9578a63fbe545bd82c…  │ eccbc87e4b5ce2fe28308fd9f2a7…  │ 2024-04-23 00:00:00 │ kaggle-postgres │\n",
       "│          ·           │          ·           │               ·                │          ·          │        ·        │\n",
       "│          ·           │          ·           │               ·                │          ·          │        ·        │\n",
       "│          ·           │          ·           │               ·                │          ·          │        ·        │\n",
       "│ 9656cd3c998c60faf6…  │ aa5fb316032860bad4…  │ c81e728d9d4c2f636f067f89cc14…  │ 2024-04-23 00:00:00 │ kaggle-postgres │\n",
       "│ 95b3b353b819d2d5fd…  │ 2bc4cdc1b8653fb1a7…  │ c81e728d9d4c2f636f067f89cc14…  │ 2024-04-23 00:00:00 │ kaggle-postgres │\n",
       "│ 120e4b609af49ff7b1…  │ 441d9b1d721e29971e…  │ c4ca4238a0b923820dcc509a6f75…  │ 2024-04-23 00:00:00 │ kaggle-postgres │\n",
       "│ 11ec67d74d14c70dea…  │ 7e2674f6f4343ce9f6…  │ c4ca4238a0b923820dcc509a6f75…  │ 2024-04-23 00:00:00 │ kaggle-postgres │\n",
       "│ dbb99d5b4ab45fd7fd…  │ f51338d736f95dd424…  │ c81e728d9d4c2f636f067f89cc14…  │ 2024-04-23 00:00:00 │ kaggle-postgres │\n",
       "│ b8d77732dc12c2c8d4…  │ 840348ae33163924c1…  │ c81e728d9d4c2f636f067f89cc14…  │ 2024-04-23 00:00:00 │ kaggle-postgres │\n",
       "│ f9f3be7069c2168e6a…  │ daecf755df5b1d6370…  │ c81e728d9d4c2f636f067f89cc14…  │ 2024-04-23 00:00:00 │ kaggle-postgres │\n",
       "│ 9261812a9faea0c28c…  │ 5c528e25e1fdeaf9d8…  │ c81e728d9d4c2f636f067f89cc14…  │ 2024-04-23 00:00:00 │ kaggle-postgres │\n",
       "│ 804ab678a77246d676…  │ 96b8294326cb659557…  │ c81e728d9d4c2f636f067f89cc14…  │ 2024-04-23 00:00:00 │ kaggle-postgres │\n",
       "│ aa42f8b26e820e2f64…  │ 644c87da09444b4942…  │ c81e728d9d4c2f636f067f89cc14…  │ 2024-04-23 00:00:00 │ kaggle-postgres │\n",
       "├──────────────────────┴──────────────────────┴────────────────────────────────┴─────────────────────┴─────────────────┤\n",
       "│ 830 rows (20 shown)                                                                                        5 columns │\n",
       "└──────────────────────────────────────────────────────────────────────────────────────────────────────────────────────┘"
      ]
     },
     "execution_count": 44,
     "metadata": {},
     "output_type": "execute_result"
    }
   ],
   "source": [
    "con.sql(\"select * from postgres.silver_raw_vault.LINK_Shipper_Orders\")"
   ]
  },
  {
   "cell_type": "code",
   "execution_count": 29,
   "id": "daa0e242-4ad0-4ec6-a8af-961251e3f48a",
   "metadata": {},
   "outputs": [],
   "source": [
    "con.close()"
   ]
  },
  {
   "cell_type": "code",
   "execution_count": null,
   "id": "3bc39fba-2b5b-4d96-b069-34d25cc5c8f4",
   "metadata": {},
   "outputs": [],
   "source": []
  }
 ],
 "metadata": {
  "kernelspec": {
   "display_name": "Python 3 (ipykernel)",
   "language": "python",
   "name": "python3"
  },
  "language_info": {
   "codemirror_mode": {
    "name": "ipython",
    "version": 3
   },
   "file_extension": ".py",
   "mimetype": "text/x-python",
   "name": "python",
   "nbconvert_exporter": "python",
   "pygments_lexer": "ipython3",
   "version": "3.12.2"
  }
 },
 "nbformat": 4,
 "nbformat_minor": 5
}
