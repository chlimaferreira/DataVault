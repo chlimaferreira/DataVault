{
 "cells": [
  {
   "cell_type": "code",
   "execution_count": 12,
   "id": "09d34520-e6ea-451f-8075-afbf0dff4b13",
   "metadata": {},
   "outputs": [],
   "source": [
    "import duckdb\n",
    "con = duckdb.connect()"
   ]
  },
  {
   "cell_type": "code",
   "execution_count": 13,
   "id": "728fdf82-ed60-48b0-a87e-0902d6f2a25a",
   "metadata": {},
   "outputs": [],
   "source": [
    "con.sql(\"LOAD postgres;\")"
   ]
  },
  {
   "cell_type": "code",
   "execution_count": 14,
   "id": "b0c837e0-2263-49aa-9b2f-262a34e7c0f3",
   "metadata": {},
   "outputs": [],
   "source": [
    "con.sql(\"ATTACH 'host=localhost port=5432 dbname=postgres user=postgres password=postgres' AS postgres (TYPE postgres);\")"
   ]
  },
  {
   "cell_type": "markdown",
   "id": "7e26e673-206a-4887-9323-d44ab9fc8467",
   "metadata": {},
   "source": [
    "### Populando Dim_Product"
   ]
  },
  {
   "cell_type": "code",
   "execution_count": 6,
   "id": "a387ef68-c75b-44ab-9a6e-9d144b196dc0",
   "metadata": {},
   "outputs": [],
   "source": [
    "con.sql(\"\"\"\n",
    "    INSERT into postgres.gold.Dim_Product   \n",
    "    select \n",
    "    \tdistinct \n",
    "    \thp.Product_ID\n",
    "    \t,hp.Dt_Load as Dt_Load_Hub\n",
    "    \t,hp.Source \n",
    "    \t,sp.Product_Name \n",
    "    \t,sp.Category_ID \n",
    "    \t,sp.Category_Name \n",
    "    \t,sp.Supplier_ID \n",
    "    \t,sp.Supplier_Name\n",
    "    \t,sp.Dt_Load as Dt_Load_Sat\n",
    "    from postgres.silver_raw_vault.HUB_Products hp\n",
    "    inner join postgres.silver_raw_vault.SAT_Product sp on hp.Hash_Key_Product = sp.Hash_Key_Product\n",
    "\"\"\")"
   ]
  },
  {
   "cell_type": "code",
   "execution_count": 7,
   "id": "5c08ae78-f31e-4a43-b11f-ad136017b693",
   "metadata": {},
   "outputs": [
    {
     "data": {
      "text/plain": [
       "┌────────────┬─────────────────────┬─────────────────┬───┬─────────────┬──────────────────────┬─────────────────────┐\n",
       "│ Product_ID │     Dt_Load_Hub     │     Source      │ … │ Supplier_ID │    Supplier_Name     │     Dt_Load_Sat     │\n",
       "│   int32    │      timestamp      │     varchar     │   │   varchar   │       varchar        │      timestamp      │\n",
       "├────────────┼─────────────────────┼─────────────────┼───┼─────────────┼──────────────────────┼─────────────────────┤\n",
       "│          1 │ 2024-04-23 00:00:00 │ kaggle-postgres │ … │ 1           │ Exotic Liquids       │ 2024-04-23 00:00:00 │\n",
       "│          3 │ 2024-04-23 00:00:00 │ kaggle-postgres │ … │ 1           │ Exotic Liquids       │ 2024-04-23 00:00:00 │\n",
       "│          7 │ 2024-04-23 00:00:00 │ kaggle-postgres │ … │ 3           │ Grandma Kelly's Ho…  │ 2024-04-23 00:00:00 │\n",
       "│         25 │ 2024-04-23 00:00:00 │ kaggle-postgres │ … │ 11          │ Heli Swaren GmbH &…  │ 2024-04-23 00:00:00 │\n",
       "│         32 │ 2024-04-23 00:00:00 │ kaggle-postgres │ … │ 14          │ Formaggi Fortini s…  │ 2024-04-23 00:00:00 │\n",
       "│         33 │ 2024-04-23 00:00:00 │ kaggle-postgres │ … │ 15          │ Norske Meierier      │ 2024-04-23 00:00:00 │\n",
       "│         38 │ 2024-04-23 00:00:00 │ kaggle-postgres │ … │ 18          │ Aux joyeux ecclsia…  │ 2024-04-23 00:00:00 │\n",
       "│         50 │ 2024-04-23 00:00:00 │ kaggle-postgres │ … │ 23          │ Karkki Oy            │ 2024-04-23 00:00:00 │\n",
       "│         51 │ 2024-04-23 00:00:00 │ kaggle-postgres │ … │ 24          │ G'day, Mate          │ 2024-04-23 00:00:00 │\n",
       "│         59 │ 2024-04-23 00:00:00 │ kaggle-postgres │ … │ 28          │ Gai pturage          │ 2024-04-23 00:00:00 │\n",
       "│          · │          ·          │        ·        │ · │ ·           │      ·               │          ·          │\n",
       "│          · │          ·          │        ·        │ · │ ·           │      ·               │          ·          │\n",
       "│          · │          ·          │        ·        │ · │ ·           │      ·               │          ·          │\n",
       "│         11 │ 2024-04-23 00:00:00 │ kaggle-postgres │ … │ 5           │ Cooperativa de Que…  │ 2024-04-23 00:00:00 │\n",
       "│         24 │ 2024-04-23 00:00:00 │ kaggle-postgres │ … │ 10          │ Refrescos American…  │ 2024-04-23 00:00:00 │\n",
       "│         30 │ 2024-04-23 00:00:00 │ kaggle-postgres │ … │ 13          │ Nord-Ost-Fisch Han…  │ 2024-04-23 00:00:00 │\n",
       "│         39 │ 2024-04-23 00:00:00 │ kaggle-postgres │ … │ 18          │ Aux joyeux ecclsia…  │ 2024-04-23 00:00:00 │\n",
       "│         53 │ 2024-04-23 00:00:00 │ kaggle-postgres │ … │ 24          │ G'day, Mate          │ 2024-04-23 00:00:00 │\n",
       "│         54 │ 2024-04-23 00:00:00 │ kaggle-postgres │ … │ 25          │ Ma Maison            │ 2024-04-23 00:00:00 │\n",
       "│         57 │ 2024-04-23 00:00:00 │ kaggle-postgres │ … │ 26          │ Pasta Buttini s.r.l. │ 2024-04-23 00:00:00 │\n",
       "│         58 │ 2024-04-23 00:00:00 │ kaggle-postgres │ … │ 27          │ Escargots Nouveaux   │ 2024-04-23 00:00:00 │\n",
       "│         75 │ 2024-04-23 00:00:00 │ kaggle-postgres │ … │ 12          │ Plutzer Lebensmitt…  │ 2024-04-23 00:00:00 │\n",
       "│         77 │ 2024-04-23 00:00:00 │ kaggle-postgres │ … │ 12          │ Plutzer Lebensmitt…  │ 2024-04-23 00:00:00 │\n",
       "├────────────┴─────────────────────┴─────────────────┴───┴─────────────┴──────────────────────┴─────────────────────┤\n",
       "│ 77 rows (20 shown)                                                                            9 columns (6 shown) │\n",
       "└───────────────────────────────────────────────────────────────────────────────────────────────────────────────────┘"
      ]
     },
     "execution_count": 7,
     "metadata": {},
     "output_type": "execute_result"
    }
   ],
   "source": [
    "con.sql(\"select * from postgres.gold.Dim_Product\")"
   ]
  },
  {
   "cell_type": "markdown",
   "id": "7b166338-1f37-4f33-8ea2-214ce65b3758",
   "metadata": {},
   "source": [
    "### Populando Dim_Employee"
   ]
  },
  {
   "cell_type": "code",
   "execution_count": 15,
   "id": "a3830656-0291-40d6-aa46-93d75f322eee",
   "metadata": {},
   "outputs": [],
   "source": [
    "con.sql(\"\"\"\n",
    "    INSERT into postgres.gold.Dim_Employee   \n",
    "    select \n",
    "    \tdistinct \n",
    "    \t he.Employee_ID\n",
    "    \t,he.Dt_Load as Dt_Load_Hub\n",
    "    \t,he.Source\n",
    "    \t,se.First_Name ||' '|| se.Last_Name as Name\n",
    "    \t,se.Title_Of_Courtesy \n",
    "    \t,se.Birth_Date \n",
    "    \t,se.Hire_Date \n",
    "    \t,sea.Address \n",
    "    \t,sea.City \n",
    "    \t,sea.Region \n",
    "        ,se.Dt_Load as Dt_Load_Sat_Name\n",
    "        ,sea.Dt_Load as Dt_Load_Sat_Address\n",
    "    from postgres.silver_raw_vault.HUB_Employee he\n",
    "    inner join postgres.silver_raw_vault.SAT_Employee se on he.Hash_Key_Employee = se.Hash_Key_Employee \n",
    "    inner join postgres.silver_raw_vault.SAT_Employee_Address sea on he.Hash_Key_Employee = sea.Hash_Key_Employee\n",
    "\"\"\")"
   ]
  },
  {
   "cell_type": "code",
   "execution_count": 16,
   "id": "7bfd7496-2c5e-4c28-a02b-8f62ea6a9c52",
   "metadata": {},
   "outputs": [
    {
     "data": {
      "text/plain": [
       "┌─────────────┬─────────────────────┬─────────────────┬───┬─────────┬─────────────────────┬─────────────────────┐\n",
       "│ Employee_ID │     Dt_Load_Hub     │     Source      │ … │ Region  │  Dt_Load_Sat_Name   │ Dt_Load_Sat_Address │\n",
       "│    int32    │      timestamp      │     varchar     │   │ varchar │      timestamp      │      timestamp      │\n",
       "├─────────────┼─────────────────────┼─────────────────┼───┼─────────┼─────────────────────┼─────────────────────┤\n",
       "│           9 │ 2024-04-23 00:00:00 │ kaggle-postgres │ … │ NULL    │ 2024-04-23 00:00:00 │ 2024-04-23 00:00:00 │\n",
       "│           4 │ 2024-04-23 00:00:00 │ kaggle-postgres │ … │ WA      │ 2024-04-23 00:00:00 │ 2024-04-23 00:00:00 │\n",
       "│           3 │ 2024-04-23 00:00:00 │ kaggle-postgres │ … │ WA      │ 2024-04-23 00:00:00 │ 2024-04-23 00:00:00 │\n",
       "│           8 │ 2024-04-23 00:00:00 │ kaggle-postgres │ … │ WA      │ 2024-04-23 00:00:00 │ 2024-04-23 00:00:00 │\n",
       "│           1 │ 2024-04-23 00:00:00 │ kaggle-postgres │ … │ WA      │ 2024-04-23 00:00:00 │ 2024-04-23 00:00:00 │\n",
       "│           6 │ 2024-04-23 00:00:00 │ kaggle-postgres │ … │ NULL    │ 2024-04-23 00:00:00 │ 2024-04-23 00:00:00 │\n",
       "│           2 │ 2024-04-23 00:00:00 │ kaggle-postgres │ … │ WA      │ 2024-04-23 00:00:00 │ 2024-04-23 00:00:00 │\n",
       "│           5 │ 2024-04-23 00:00:00 │ kaggle-postgres │ … │ NULL    │ 2024-04-23 00:00:00 │ 2024-04-23 00:00:00 │\n",
       "│           7 │ 2024-04-23 00:00:00 │ kaggle-postgres │ … │ NULL    │ 2024-04-23 00:00:00 │ 2024-04-23 00:00:00 │\n",
       "├─────────────┴─────────────────────┴─────────────────┴───┴─────────┴─────────────────────┴─────────────────────┤\n",
       "│ 9 rows                                                                                   12 columns (6 shown) │\n",
       "└───────────────────────────────────────────────────────────────────────────────────────────────────────────────┘"
      ]
     },
     "execution_count": 16,
     "metadata": {},
     "output_type": "execute_result"
    }
   ],
   "source": [
    "con.sql(\"select * from postgres.gold.Dim_Employee\")"
   ]
  },
  {
   "cell_type": "markdown",
   "id": "fecc8cbe-ae5a-4fa1-b4d1-8f2d54cf313c",
   "metadata": {},
   "source": [
    "### Populando Dim_Customers"
   ]
  },
  {
   "cell_type": "code",
   "execution_count": 19,
   "id": "36ad3ccc-3fa8-4b5e-9b76-64630e5f1a25",
   "metadata": {},
   "outputs": [],
   "source": [
    "con.sql(\"\"\"\n",
    "    INSERT into postgres.gold.Dim_Customers  \n",
    "    select distinct \n",
    "    \t hc.Customer_ID\n",
    "    \t ,hc.Dt_Load as Dt_Load_Hub\n",
    "    \t ,hc.Source \n",
    "    \t ,sc.Customer_Name \n",
    "    \t ,sc.Contact_Name \n",
    "    \t ,sca.Address \n",
    "    \t ,sca.City \n",
    "    \t ,sca.Region \n",
    "         ,sc.Dt_Load as Dt_Load_Sat_Name\n",
    "    \t ,sca.Dt_Load as Dt_Load_Sat_Address\n",
    "    from postgres.silver_raw_vault.HUB_Customers hc\n",
    "    inner join postgres.silver_raw_vault.SAT_Customer sc on hc.Hash_Key_Customer = sc.Hash_Key_Customer \n",
    "    inner join postgres.silver_raw_vault.SAT_Customer_Address sca on hc.Hash_Key_Customer = sca.Hash_Key_Customer \n",
    "\n",
    "\"\"\")"
   ]
  },
  {
   "cell_type": "code",
   "execution_count": 20,
   "id": "69a9022c-822e-489e-8856-547e5e6fa652",
   "metadata": {},
   "outputs": [
    {
     "data": {
      "text/plain": [
       "┌─────────────┬─────────────────────┬─────────────────┬───┬───────────────┬─────────────────────┬─────────────────────┐\n",
       "│ Customer_ID │     Dt_Load_Hub     │     Source      │ … │    Region     │  Dt_Load_Sat_Name   │ Dt_Load_Sat_Address │\n",
       "│   varchar   │      timestamp      │     varchar     │   │    varchar    │      timestamp      │      timestamp      │\n",
       "├─────────────┼─────────────────────┼─────────────────┼───┼───────────────┼─────────────────────┼─────────────────────┤\n",
       "│ ALFKI       │ 2024-04-23 00:00:00 │ kaggle-postgres │ … │ NULL          │ 2024-04-23 00:00:00 │ 2024-04-23 00:00:00 │\n",
       "│ BOTTM       │ 2024-04-23 00:00:00 │ kaggle-postgres │ … │ BC            │ 2024-04-23 00:00:00 │ 2024-04-23 00:00:00 │\n",
       "│ CENTC       │ 2024-04-23 00:00:00 │ kaggle-postgres │ … │ NULL          │ 2024-04-23 00:00:00 │ 2024-04-23 00:00:00 │\n",
       "│ FAMIA       │ 2024-04-23 00:00:00 │ kaggle-postgres │ … │ SP            │ 2024-04-23 00:00:00 │ 2024-04-23 00:00:00 │\n",
       "│ FOLKO       │ 2024-04-23 00:00:00 │ kaggle-postgres │ … │ NULL          │ 2024-04-23 00:00:00 │ 2024-04-23 00:00:00 │\n",
       "│ GALED       │ 2024-04-23 00:00:00 │ kaggle-postgres │ … │ NULL          │ 2024-04-23 00:00:00 │ 2024-04-23 00:00:00 │\n",
       "│ HUNGC       │ 2024-04-23 00:00:00 │ kaggle-postgres │ … │ OR            │ 2024-04-23 00:00:00 │ 2024-04-23 00:00:00 │\n",
       "│ ISLAT       │ 2024-04-23 00:00:00 │ kaggle-postgres │ … │ Isle of Wight │ 2024-04-23 00:00:00 │ 2024-04-23 00:00:00 │\n",
       "│ LAZYK       │ 2024-04-23 00:00:00 │ kaggle-postgres │ … │ WA            │ 2024-04-23 00:00:00 │ 2024-04-23 00:00:00 │\n",
       "│ OTTIK       │ 2024-04-23 00:00:00 │ kaggle-postgres │ … │ NULL          │ 2024-04-23 00:00:00 │ 2024-04-23 00:00:00 │\n",
       "│   ·         │          ·          │        ·        │ · │ ·             │          ·          │          ·          │\n",
       "│   ·         │          ·          │        ·        │ · │ ·             │          ·          │          ·          │\n",
       "│   ·         │          ·          │        ·        │ · │ ·             │          ·          │          ·          │\n",
       "│ GROSR       │ 2024-04-23 00:00:00 │ kaggle-postgres │ … │ DF            │ 2024-04-23 00:00:00 │ 2024-04-23 00:00:00 │\n",
       "│ HANAR       │ 2024-04-23 00:00:00 │ kaggle-postgres │ … │ RJ            │ 2024-04-23 00:00:00 │ 2024-04-23 00:00:00 │\n",
       "│ HUNGO       │ 2024-04-23 00:00:00 │ kaggle-postgres │ … │ Co. Cork      │ 2024-04-23 00:00:00 │ 2024-04-23 00:00:00 │\n",
       "│ MORGK       │ 2024-04-23 00:00:00 │ kaggle-postgres │ … │ NULL          │ 2024-04-23 00:00:00 │ 2024-04-23 00:00:00 │\n",
       "│ QUEEN       │ 2024-04-23 00:00:00 │ kaggle-postgres │ … │ SP            │ 2024-04-23 00:00:00 │ 2024-04-23 00:00:00 │\n",
       "│ RATTC       │ 2024-04-23 00:00:00 │ kaggle-postgres │ … │ NM            │ 2024-04-23 00:00:00 │ 2024-04-23 00:00:00 │\n",
       "│ SPECD       │ 2024-04-23 00:00:00 │ kaggle-postgres │ … │ NULL          │ 2024-04-23 00:00:00 │ 2024-04-23 00:00:00 │\n",
       "│ WTCMA       │ 2024-04-23 00:00:00 │ kaggle-postgres │ … │ WA            │ 2024-04-23 00:00:00 │ 2024-04-23 00:00:00 │\n",
       "│ VICTE       │ 2024-04-23 00:00:00 │ kaggle-postgres │ … │ NULL          │ 2024-04-23 00:00:00 │ 2024-04-23 00:00:00 │\n",
       "│ WILMK       │ 2024-04-23 00:00:00 │ kaggle-postgres │ … │ NULL          │ 2024-04-23 00:00:00 │ 2024-04-23 00:00:00 │\n",
       "├─────────────┴─────────────────────┴─────────────────┴───┴───────────────┴─────────────────────┴─────────────────────┤\n",
       "│ 94 rows (20 shown)                                                                             10 columns (6 shown) │\n",
       "└─────────────────────────────────────────────────────────────────────────────────────────────────────────────────────┘"
      ]
     },
     "execution_count": 20,
     "metadata": {},
     "output_type": "execute_result"
    }
   ],
   "source": [
    "con.sql(\"select * from postgres.gold.Dim_Customers\")"
   ]
  },
  {
   "cell_type": "markdown",
   "id": "91533972-82d9-4ad5-aee1-9e5c480291e1",
   "metadata": {},
   "source": [
    "### Populando Dim_Shipper"
   ]
  },
  {
   "cell_type": "code",
   "execution_count": 22,
   "id": "54c17f7b-3f5f-4f03-a526-1a47d9dcce3d",
   "metadata": {},
   "outputs": [],
   "source": [
    "con.sql(\"\"\"\n",
    "    INSERT into postgres.gold.Dim_Shippers  \n",
    "    select \n",
    "    \tdistinct\n",
    "    \ths.Shipper_ID \n",
    "    \t,hs.Dt_Load as Dt_Load_Hub\n",
    "    \t,hs.Source\n",
    "    \t,ss.Company_Name \n",
    "    \t,ss.Phone \n",
    "    \t,ss.Dt_Load as Dt_Load_Sat\n",
    "    from postgres.silver_raw_vault.HUB_Shippers hs\n",
    "    inner join postgres.silver_raw_vault.SAT_Shipper ss on hs.Hash_Key_Shipper = ss.Hash_Key_Shipper\n",
    "\"\"\")"
   ]
  },
  {
   "cell_type": "code",
   "execution_count": 23,
   "id": "9d80e443-c141-47f5-a603-ae21a4ae1e03",
   "metadata": {},
   "outputs": [
    {
     "data": {
      "text/plain": [
       "┌────────────┬─────────────────────┬─────────────────┬──────────────────┬────────────────┬─────────────────────┐\n",
       "│ Shipper_ID │     Dt_Load_Hub     │     Source      │   Company_Name   │     Phone      │     Dt_Load_Sat     │\n",
       "│   int32    │      timestamp      │     varchar     │     varchar      │    varchar     │      timestamp      │\n",
       "├────────────┼─────────────────────┼─────────────────┼──────────────────┼────────────────┼─────────────────────┤\n",
       "│          3 │ 2024-04-23 00:00:00 │ kaggle-postgres │ Federal Shipping │ (503) 555-9931 │ 2024-04-24 00:00:00 │\n",
       "│          1 │ 2024-04-23 00:00:00 │ kaggle-postgres │ Speedy Express   │ (503) 555-9831 │ 2024-04-24 00:00:00 │\n",
       "│          2 │ 2024-04-23 00:00:00 │ kaggle-postgres │ United Package   │ (503) 555-3199 │ 2024-04-24 00:00:00 │\n",
       "└────────────┴─────────────────────┴─────────────────┴──────────────────┴────────────────┴─────────────────────┘"
      ]
     },
     "execution_count": 23,
     "metadata": {},
     "output_type": "execute_result"
    }
   ],
   "source": [
    "con.sql(\"select * from postgres.gold.Dim_Shippers\")"
   ]
  },
  {
   "cell_type": "markdown",
   "id": "79034dc8-8746-4eab-a88b-6d48c1666a80",
   "metadata": {},
   "source": [
    "### Populando Fato_Orders"
   ]
  },
  {
   "cell_type": "code",
   "execution_count": 33,
   "id": "9b24b682-d4c8-4d68-b20f-b6725a95eafa",
   "metadata": {},
   "outputs": [],
   "source": [
    "con.sql(\"\"\"\n",
    "    INSERT into postgres.gold.Fact_Orders  \n",
    "    select \n",
    "    \t b.Order_ID \n",
    "         ,strftime(so.Order_Date, '%Y%m%d') Date_ID\n",
    "    \t,b.Employee_ID \n",
    "    \t,b.Customer_ID\n",
    "    \t,b.Product_ID\n",
    "    \t,b.Shipper_ID \n",
    "    \t,so.Order_Date \n",
    "    \t,so.required_date \n",
    "    \t,so.shipped_date \n",
    "    \t,sod.Quantity \n",
    "    \t,sod.Unity_Price \n",
    "    \t,sod.Discount \n",
    "    from postgres.silver_business_vault.Bridge_Store b\n",
    "    inner join postgres.silver_raw_vault.SAT_Orders_Details sod on b.Hash_Key_Link_Products_Orders_Detail = sod.Hash_Key_Order_P_O \n",
    "    inner join postgres.silver_raw_vault.SAT_Orders so on b.Hash_Key_Orders = so.Hash_Key_Order \n",
    "    inner join postgres.silver_raw_vault.SAT_Product sp on b.Hash_Key_Product = sp.Hash_Key_Product \n",
    "    inner join postgres.silver_raw_vault.SAT_Customer sc on b.Hash_Key_Customer = sc.Hash_Key_Customer \n",
    "    inner join postgres.silver_raw_vault.SAT_Customer_Address sca on b.Hash_Key_Customer = sca.Hash_Key_Customer \n",
    "    inner join postgres.silver_raw_vault.SAT_Employee se on b.Hash_Key_Employee = se.Hash_Key_Employee \n",
    "    inner join postgres.silver_raw_vault.SAT_Employee_Address sea on b.Hash_Key_Employee = sea.Hash_Key_Employee \n",
    "    inner join postgres.silver_raw_vault.SAT_Shipper ss on b.Hash_Key_Shipper = ss.Hash_Key_Shipper \n",
    "\"\"\")"
   ]
  },
  {
   "cell_type": "code",
   "execution_count": 34,
   "id": "ad0267f7-3dc2-4299-88ff-c8d23b53328d",
   "metadata": {},
   "outputs": [
    {
     "data": {
      "text/plain": [
       "┌──────────┬──────────┬─────────────┬─────────────┬───┬─────────────────────┬──────────┬─────────────┬──────────┐\n",
       "│ Order_ID │ Date_ID  │ Employee_ID │ Customer_ID │ … │    shipped_date     │ Quantity │ Unity_Price │ Discount │\n",
       "│ varchar  │  int32   │    int32    │   varchar   │   │      timestamp      │  int32   │   double    │  double  │\n",
       "├──────────┼──────────┼─────────────┼─────────────┼───┼─────────────────────┼──────────┼─────────────┼──────────┤\n",
       "│ 10248    │ 20200704 │           5 │ VINET       │ … │ 2020-07-16 00:00:00 │       12 │        14.0 │      0.0 │\n",
       "│ 10248    │ 20200704 │           5 │ VINET       │ … │ 2020-07-16 00:00:00 │       10 │         9.8 │      0.0 │\n",
       "│ 10248    │ 20200704 │           5 │ VINET       │ … │ 2020-07-16 00:00:00 │        5 │        34.8 │      0.0 │\n",
       "│ 10249    │ 20200705 │           6 │ TOMSP       │ … │ 2020-07-10 00:00:00 │       40 │        42.4 │      0.0 │\n",
       "│ 10253    │ 20200710 │           3 │ HANAR       │ … │ 2020-07-16 00:00:00 │       20 │        10.0 │      0.0 │\n",
       "│ 10253    │ 20200710 │           3 │ HANAR       │ … │ 2020-07-16 00:00:00 │       42 │        14.4 │      0.0 │\n",
       "│ 10253    │ 20200710 │           3 │ HANAR       │ … │ 2020-07-16 00:00:00 │       40 │        16.0 │      0.0 │\n",
       "│ 10254    │ 20200711 │           5 │ CHOPS       │ … │ 2020-07-23 00:00:00 │       15 │         3.6 │      0.0 │\n",
       "│ 10254    │ 20200711 │           5 │ CHOPS       │ … │ 2020-07-23 00:00:00 │       21 │        19.2 │      0.0 │\n",
       "│ 10255    │ 20200712 │           9 │ RICSU       │ … │ 2020-07-15 00:00:00 │       20 │        15.2 │      0.0 │\n",
       "│   ·      │     ·    │           · │   ·         │ · │          ·          │        · │          ·  │       ·  │\n",
       "│   ·      │     ·    │           · │   ·         │ · │          ·          │        · │          ·  │       ·  │\n",
       "│   ·      │     ·    │           · │   ·         │ · │          ·          │        · │          ·  │       ·  │\n",
       "│ 10471    │ 20210311 │           2 │ BSBEV       │ … │ 2021-03-18 00:00:00 │       30 │        24.0 │      0.0 │\n",
       "│ 10471    │ 20210311 │           2 │ BSBEV       │ … │ 2021-03-18 00:00:00 │       20 │        30.4 │      0.0 │\n",
       "│ 10455    │ 20210224 │           8 │ WARTH       │ … │ 2021-03-03 00:00:00 │       25 │        22.8 │      0.0 │\n",
       "│ 10624    │ 20210807 │           4 │ THECR       │ … │ 2021-08-19 00:00:00 │        6 │      123.79 │      0.0 │\n",
       "│ 10583    │ 20210630 │           2 │ WARTH       │ … │ 2021-07-04 00:00:00 │       10 │        36.0 │      0.0 │\n",
       "│ 10633    │ 20210815 │           7 │ ERNSH       │ … │ 2021-08-18 00:00:00 │       36 │        38.0 │      0.0 │\n",
       "│ 10654    │ 20210902 │           5 │ BERGS       │ … │ 2021-09-11 00:00:00 │        6 │        7.45 │      0.0 │\n",
       "│ 10578    │ 20210624 │           4 │ BSBEV       │ … │ 2021-07-25 00:00:00 │       20 │        18.0 │      0.0 │\n",
       "│ 11044    │ 20220423 │           4 │ WOLZA       │ … │ 2022-05-01 00:00:00 │       12 │        49.3 │      0.0 │\n",
       "│ 10810    │ 20220101 │           2 │ LAUGB       │ … │ 2022-01-07 00:00:00 │        5 │        15.0 │      0.0 │\n",
       "├──────────┴──────────┴─────────────┴─────────────┴───┴─────────────────────┴──────────┴─────────────┴──────────┤\n",
       "│ 2155 rows (20 shown)                                                                     12 columns (8 shown) │\n",
       "└───────────────────────────────────────────────────────────────────────────────────────────────────────────────┘"
      ]
     },
     "execution_count": 34,
     "metadata": {},
     "output_type": "execute_result"
    }
   ],
   "source": [
    "con.sql(\"select * from postgres.gold.Fact_Orders\")"
   ]
  },
  {
   "cell_type": "code",
   "execution_count": 35,
   "id": "abc3e58f-c30a-484c-b30c-fddc897366ed",
   "metadata": {},
   "outputs": [],
   "source": [
    "con.close()"
   ]
  },
  {
   "cell_type": "code",
   "execution_count": null,
   "id": "a48c68e8-ff25-49d4-80fc-2e95fd865041",
   "metadata": {},
   "outputs": [],
   "source": []
  }
 ],
 "metadata": {
  "kernelspec": {
   "display_name": "Python 3 (ipykernel)",
   "language": "python",
   "name": "python3"
  },
  "language_info": {
   "codemirror_mode": {
    "name": "ipython",
    "version": 3
   },
   "file_extension": ".py",
   "mimetype": "text/x-python",
   "name": "python",
   "nbconvert_exporter": "python",
   "pygments_lexer": "ipython3",
   "version": "3.12.2"
  }
 },
 "nbformat": 4,
 "nbformat_minor": 5
}
