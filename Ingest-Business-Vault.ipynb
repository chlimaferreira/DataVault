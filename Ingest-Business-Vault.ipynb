{
 "cells": [
  {
   "cell_type": "code",
   "execution_count": 2,
   "id": "666f60eb-2e2c-464e-b0c7-f6ff169513ca",
   "metadata": {},
   "outputs": [],
   "source": [
    "import duckdb\n",
    "con = duckdb.connect()"
   ]
  },
  {
   "cell_type": "code",
   "execution_count": 3,
   "id": "756c5e4a-b058-4486-ad4c-addf967855ae",
   "metadata": {},
   "outputs": [],
   "source": [
    "con.sql(\"LOAD postgres;\")"
   ]
  },
  {
   "cell_type": "code",
   "execution_count": 4,
   "id": "d9d9de49-0142-4d10-ab4c-407dd6357d14",
   "metadata": {},
   "outputs": [],
   "source": [
    "con.sql(\"ATTACH 'host=localhost port=5432 dbname=postgres user=postgres password=postgres' AS postgres (TYPE postgres);\")"
   ]
  },
  {
   "cell_type": "markdown",
   "id": "f940190b-baff-4ac9-b434-e36c910f7ca7",
   "metadata": {},
   "source": [
    "### Populando PIT_Customers"
   ]
  },
  {
   "cell_type": "code",
   "execution_count": 23,
   "id": "1459eee7-4acb-446b-9f7c-f3f34cc2dce3",
   "metadata": {},
   "outputs": [],
   "source": [
    "con.sql(\"\"\"\n",
    "    INSERT into postgres.silver_business_vault.PIT_Customers   \n",
    "    select \n",
    "        h.Hash_Key_Customer,\n",
    "        current_date as PIT_Dt_Load,\n",
    "        sc.Dt_Load as Name_Dt_Load,\n",
    "        sca.Dt_Load as Address_Dt_Load\n",
    "    from postgres.silver_raw_vault.HUB_Customers h\n",
    "    inner join postgres.silver_raw_vault.SAT_Customer sc on h.Hash_Key_Customer = sc.Hash_Key_Customer \n",
    "    inner join postgres.silver_raw_vault.SAT_Customer_Address sca on h.Hash_Key_Customer = sca.Hash_Key_Customer\n",
    "\"\"\")\n"
   ]
  },
  {
   "cell_type": "code",
   "execution_count": 24,
   "id": "610b2d61-288a-4259-b3d0-ebe8fbec8e87",
   "metadata": {},
   "outputs": [
    {
     "data": {
      "text/plain": [
       "┌──────────────────────────────────┬─────────────────────┬─────────────────────┬─────────────────────┐\n",
       "│        Hash_Key_Customer         │     PIT_Dt_Load     │    Name_Dt_Load     │   Adress_Dt_Load    │\n",
       "│             varchar              │      timestamp      │      timestamp      │      timestamp      │\n",
       "├──────────────────────────────────┼─────────────────────┼─────────────────────┼─────────────────────┤\n",
       "│ 3843d32087bb0e88d4a71d4822dfcf08 │ 2024-04-23 00:00:00 │ 2024-04-23 00:00:00 │ 2024-04-23 00:00:00 │\n",
       "│ 936a02d4ffa95853a9185c2f65dff746 │ 2024-04-23 00:00:00 │ 2024-04-23 00:00:00 │ 2024-04-23 00:00:00 │\n",
       "│ 5af7cc596883d1058d430ba55e9efe15 │ 2024-04-23 00:00:00 │ 2024-04-23 00:00:00 │ 2024-04-23 00:00:00 │\n",
       "│ 8f02a7d7eed9a7ce2bf93793de025fba │ 2024-04-23 00:00:00 │ 2024-04-23 00:00:00 │ 2024-04-23 00:00:00 │\n",
       "│ d87fe20078f7e4a277e16c5faef6f592 │ 2024-04-23 00:00:00 │ 2024-04-23 00:00:00 │ 2024-04-23 00:00:00 │\n",
       "│ 7259235dfc93163e32b405fa5f7ebbd4 │ 2024-04-23 00:00:00 │ 2024-04-23 00:00:00 │ 2024-04-23 00:00:00 │\n",
       "│ 5194adaa40fd27448af6aa0daecda08c │ 2024-04-23 00:00:00 │ 2024-04-23 00:00:00 │ 2024-04-23 00:00:00 │\n",
       "│ 1fc4be0708e71890674496db5f627c96 │ 2024-04-23 00:00:00 │ 2024-04-23 00:00:00 │ 2024-04-23 00:00:00 │\n",
       "│ c8ac54e3a2b5241b5d7b8a2d625b23dd │ 2024-04-23 00:00:00 │ 2024-04-23 00:00:00 │ 2024-04-23 00:00:00 │\n",
       "│ 12aacc7184913eed907a1162db6262a9 │ 2024-04-23 00:00:00 │ 2024-04-23 00:00:00 │ 2024-04-23 00:00:00 │\n",
       "│                ·                 │          ·          │          ·          │          ·          │\n",
       "│                ·                 │          ·          │          ·          │          ·          │\n",
       "│                ·                 │          ·          │          ·          │          ·          │\n",
       "│ 369aacdc152e982e657b6b738ee5360e │ 2024-04-23 00:00:00 │ 2024-04-23 00:00:00 │ 2024-04-23 00:00:00 │\n",
       "│ 9c9f62399b1718ae731d164d51b9992d │ 2024-04-23 00:00:00 │ 2024-04-23 00:00:00 │ 2024-04-23 00:00:00 │\n",
       "│ 46cf84d32a52ef647870b5d544302306 │ 2024-04-23 00:00:00 │ 2024-04-23 00:00:00 │ 2024-04-23 00:00:00 │\n",
       "│ 1d25f6cd08da48e6d0bea0c8361896f3 │ 2024-04-23 00:00:00 │ 2024-04-23 00:00:00 │ 2024-04-23 00:00:00 │\n",
       "│ 796db1690b71574d2f17bd964fcb8089 │ 2024-04-23 00:00:00 │ 2024-04-23 00:00:00 │ 2024-04-23 00:00:00 │\n",
       "│ dd10ef1b3ef64d796a59de43ad85e7ed │ 2024-04-23 00:00:00 │ 2024-04-23 00:00:00 │ 2024-04-23 00:00:00 │\n",
       "│ 6566d378fe7b641dc480f33779c0bb69 │ 2024-04-23 00:00:00 │ 2024-04-23 00:00:00 │ 2024-04-23 00:00:00 │\n",
       "│ bd525e9c06f2af24ace3e5a5acf6cbbe │ 2024-04-23 00:00:00 │ 2024-04-23 00:00:00 │ 2024-04-23 00:00:00 │\n",
       "│ 0ca5d4ed83eb1f00dfe3e91089c37f53 │ 2024-04-23 00:00:00 │ 2024-04-23 00:00:00 │ 2024-04-23 00:00:00 │\n",
       "│ 532257988661044adeee476974ce2d7f │ 2024-04-23 00:00:00 │ 2024-04-23 00:00:00 │ 2024-04-23 00:00:00 │\n",
       "├──────────────────────────────────┴─────────────────────┴─────────────────────┴─────────────────────┤\n",
       "│ 94 rows (20 shown)                                                                       4 columns │\n",
       "└────────────────────────────────────────────────────────────────────────────────────────────────────┘"
      ]
     },
     "execution_count": 24,
     "metadata": {},
     "output_type": "execute_result"
    }
   ],
   "source": [
    "con.sql(\"select * from postgres.silver_business_vault.PIT_Customers\")"
   ]
  },
  {
   "cell_type": "markdown",
   "id": "74e6fbb5-6587-48fa-a2a7-7a13079c4e59",
   "metadata": {},
   "source": [
    "### Populando PIT_Employees"
   ]
  },
  {
   "cell_type": "code",
   "execution_count": 25,
   "id": "8bc95269-e51c-4747-a4a2-bb6e2eb43645",
   "metadata": {},
   "outputs": [],
   "source": [
    "con.sql(\"\"\"\n",
    "        INSERT into postgres.silver_business_vault.PIT_Employee  \n",
    "        select \n",
    "        \th.Hash_Key_Employee ,\n",
    "        \tcurrent_date as PIT_Dt_Load,\n",
    "        \tsc.Dt_Load as Name_Dt_Load,\n",
    "        \tsca.Dt_Load as Address_Dt_Load\n",
    "        from postgres.silver_raw_vault.HUB_Employee h\n",
    "        inner join postgres.silver_raw_vault.SAT_Employee sc on h.Hash_Key_Employee = sc.Hash_Key_Employee\n",
    "        inner join postgres.silver_raw_vault.SAT_Employee_Address sca on h.Hash_Key_Employee = sca.Hash_Key_Employee\n",
    "\"\"\")"
   ]
  },
  {
   "cell_type": "code",
   "execution_count": 26,
   "id": "295edecf-51f6-4d1e-9272-0144dbb27d45",
   "metadata": {},
   "outputs": [
    {
     "data": {
      "text/plain": [
       "┌──────────────────────────────────┬─────────────────────┬─────────────────────┬─────────────────────┐\n",
       "│        Hash_Key_Employee         │     PIT_Dt_Load     │    Name_Dt_Load     │   Adress_Dt_Load    │\n",
       "│             varchar              │      timestamp      │      timestamp      │      timestamp      │\n",
       "├──────────────────────────────────┼─────────────────────┼─────────────────────┼─────────────────────┤\n",
       "│ c4ca4238a0b923820dcc509a6f75849b │ 2024-04-23 00:00:00 │ 2024-04-23 00:00:00 │ 2024-04-23 00:00:00 │\n",
       "│ c81e728d9d4c2f636f067f89cc14862c │ 2024-04-23 00:00:00 │ 2024-04-23 00:00:00 │ 2024-04-23 00:00:00 │\n",
       "│ eccbc87e4b5ce2fe28308fd9f2a7baf3 │ 2024-04-23 00:00:00 │ 2024-04-23 00:00:00 │ 2024-04-23 00:00:00 │\n",
       "│ a87ff679a2f3e71d9181a67b7542122c │ 2024-04-23 00:00:00 │ 2024-04-23 00:00:00 │ 2024-04-23 00:00:00 │\n",
       "│ e4da3b7fbbce2345d7772b0674a318d5 │ 2024-04-23 00:00:00 │ 2024-04-23 00:00:00 │ 2024-04-23 00:00:00 │\n",
       "│ 1679091c5a880faf6fb5e6087eb1b2dc │ 2024-04-23 00:00:00 │ 2024-04-23 00:00:00 │ 2024-04-23 00:00:00 │\n",
       "│ 8f14e45fceea167a5a36dedd4bea2543 │ 2024-04-23 00:00:00 │ 2024-04-23 00:00:00 │ 2024-04-23 00:00:00 │\n",
       "│ c9f0f895fb98ab9159f51fd0297e236d │ 2024-04-23 00:00:00 │ 2024-04-23 00:00:00 │ 2024-04-23 00:00:00 │\n",
       "│ 45c48cce2e2d7fbdea1afc51c7c6ad26 │ 2024-04-23 00:00:00 │ 2024-04-23 00:00:00 │ 2024-04-23 00:00:00 │\n",
       "└──────────────────────────────────┴─────────────────────┴─────────────────────┴─────────────────────┘"
      ]
     },
     "execution_count": 26,
     "metadata": {},
     "output_type": "execute_result"
    }
   ],
   "source": [
    "con.sql(\"select * from postgres.silver_business_vault.PIT_Employee\")"
   ]
  },
  {
   "cell_type": "markdown",
   "id": "aaf78522-ac21-442f-b9bf-7b4101d6fba0",
   "metadata": {},
   "source": [
    "### Populando Bridge_Store"
   ]
  },
  {
   "cell_type": "code",
   "execution_count": 11,
   "id": "20337bb3-ac4b-4788-99ee-0e6eec380eba",
   "metadata": {},
   "outputs": [],
   "source": [
    "con.sql(\"\"\"\n",
    "        INSERT into postgres.silver_business_vault.Bridge_Store \n",
    "        select\n",
    "            md5(cast(o.Order_ID as varchar)||cast(e.Employee_ID as varchar)||c.Customer_ID||cast(p.Product_ID as varchar)||cast(s.Shipper_ID as varchar)) as Hash_Key_Bridge\n",
    "        \t,current_date as Bridge_Dt_Load\n",
    "        \t,o.Hash_Key_Order\n",
    "            ,o.Order_ID\n",
    "            ,e.Hash_Key_Employee\n",
    "        \t,e.Employee_ID\n",
    "        \t,c.Hash_Key_Customer\n",
    "        \t,c.Customer_ID\n",
    "        \t,p.Hash_Key_Product\n",
    "        \t,p.Product_ID\n",
    "        \t,s.Hash_Key_Shipper\n",
    "        \t,s.Shipper_ID\n",
    "        \t,lpod.Hash_Key_Link_P_O\n",
    "        \t,lso.Hash_Key_Link_S_O\n",
    "        \t,leo.Hash_Key_Link_E_O\n",
    "        \t,lco.Hash_Key_Link_C_O\n",
    "        \n",
    "        from postgres.silver_raw_vault.HUB_Orders o\n",
    "        inner join postgres.silver_raw_vault.SAT_Orders so on o.Hash_Key_Order = so.Hash_Key_Order \n",
    "        inner join postgres.silver_raw_vault.LINK_Products_Orders_Detail lpod on o.Hash_Key_Order = lpod.Hash_Key_Orders \n",
    "        inner join postgres.silver_raw_vault.SAT_Orders_Details sod on lpod.Hash_Key_Link_P_O  = sod.Hash_Key_Order_P_O\n",
    "        inner join postgres.silver_raw_vault.HUB_Products p on lpod.Hash_Key_Product = p.Hash_Key_Product \n",
    "        inner join postgres.silver_raw_vault.SAT_Product sp on p.Hash_Key_Product = sp.Hash_Key_Product \n",
    "        inner join postgres.silver_raw_vault.LINK_Employee_Orders leo on o.Hash_Key_Order = leo.Hash_Key_Orders \n",
    "        inner join postgres.silver_raw_vault.HUB_Employee e on leo.Hash_Key_Employee = e.Hash_Key_Employee \n",
    "        inner join postgres.silver_raw_vault.SAT_Employee se on e.Hash_Key_Employee = se.Hash_Key_Employee \n",
    "        inner join postgres.silver_raw_vault.SAT_Employee_Address sea on e.Hash_Key_Employee = sea.Hash_Key_Employee \n",
    "        inner join postgres.silver_raw_vault.LINK_Customers_Orders lco on o.Hash_Key_Order = lco.Hash_Key_Orders \n",
    "        inner join postgres.silver_raw_vault.HUB_Customers c on lco.Hash_Key_Customer = c.Hash_Key_Customer \n",
    "        inner join postgres.silver_raw_vault.SAT_Customer sc on c.Hash_Key_Customer = sc.Hash_Key_Customer\n",
    "        inner join postgres.silver_raw_vault.SAT_Customer_Address sca on c.Hash_Key_Customer = sca.Hash_Key_Customer \n",
    "        inner join postgres.silver_raw_vault.LINK_Shipper_Orders lso on o.Hash_Key_Order = lso.Hash_Key_Orders\n",
    "        inner join postgres.silver_raw_vault.HUB_Shippers s on lso.Hash_Key_Shipper = s.Hash_Key_Shipper\n",
    "        inner join postgres.silver_raw_vault.SAT_Shipper ss on ss.Hash_Key_Shipper = s.Hash_Key_Shipper \n",
    "\"\"\")"
   ]
  },
  {
   "cell_type": "code",
   "execution_count": 13,
   "id": "5f2d8660-dc49-49dd-82ff-270562b0f868",
   "metadata": {},
   "outputs": [
    {
     "data": {
      "text/plain": [
       "┌──────────────────────┬─────────────────────┬──────────────────────┬───┬──────────────────────┬──────────────────────┐\n",
       "│   Hash_Key_Bridge    │   Bridge_Dt_Load    │   Hash_Key_Orders    │ … │ Hash_Key_Link_Empl…  │ Hash_Key_Link_Cust…  │\n",
       "│       varchar        │      timestamp      │       varchar        │   │       varchar        │       varchar        │\n",
       "├──────────────────────┼─────────────────────┼──────────────────────┼───┼──────────────────────┼──────────────────────┤\n",
       "│ 40aa95052e5140ea82…  │ 2024-04-24 00:00:00 │ cfdf55d9c4687ca7b7…  │ … │ 0a1595cacaa6446fb5…  │ ab5b727c74d99fa5d1…  │\n",
       "│ c07b0bca73d3e70292…  │ 2024-04-24 00:00:00 │ cfdf55d9c4687ca7b7…  │ … │ 0a1595cacaa6446fb5…  │ ab5b727c74d99fa5d1…  │\n",
       "│ 2266788f1c9568c265…  │ 2024-04-24 00:00:00 │ cfdf55d9c4687ca7b7…  │ … │ 0a1595cacaa6446fb5…  │ ab5b727c74d99fa5d1…  │\n",
       "│ bd083a2963ae0e8a16…  │ 2024-04-24 00:00:00 │ 28fda3e1d182e68d52…  │ … │ f4ea93b7fcbb667a17…  │ 71e16c25bd58276d8c…  │\n",
       "│ f22b53421ec2e4f203…  │ 2024-04-24 00:00:00 │ 2737a91408afcc2526…  │ … │ 78257e3ded5c6a3a8c…  │ 60b98238baec242f1c…  │\n",
       "│ 49706d21310591fef0…  │ 2024-04-24 00:00:00 │ 2737a91408afcc2526…  │ … │ 78257e3ded5c6a3a8c…  │ 60b98238baec242f1c…  │\n",
       "│ 801b0beacfcf4f5e32…  │ 2024-04-24 00:00:00 │ 2737a91408afcc2526…  │ … │ 78257e3ded5c6a3a8c…  │ 60b98238baec242f1c…  │\n",
       "│ f27866ea09854576c4…  │ 2024-04-24 00:00:00 │ 805b74daca86ea2e20…  │ … │ b9754d094b6c9d34a3…  │ 43a6a8fd3c3526ff02…  │\n",
       "│ 5c1abda53bc1fa288b…  │ 2024-04-24 00:00:00 │ 805b74daca86ea2e20…  │ … │ b9754d094b6c9d34a3…  │ 43a6a8fd3c3526ff02…  │\n",
       "│ b9324dee75868e47f7…  │ 2024-04-24 00:00:00 │ d093e56ef752adba41…  │ … │ 519b02fcf268e5bb1c…  │ 8a940c99cea7281b67…  │\n",
       "│          ·           │          ·          │          ·           │ · │          ·           │          ·           │\n",
       "│          ·           │          ·          │          ·           │ · │          ·           │          ·           │\n",
       "│          ·           │          ·          │          ·           │ · │          ·           │          ·           │\n",
       "│ d5f3d74ef79d90037d…  │ 2024-04-24 00:00:00 │ 23f35020df135821bc…  │ … │ e0b7ecec6abd582ce9…  │ e91c2a5f7670d492a0…  │\n",
       "│ ef7ea1c9c846ae5a7e…  │ 2024-04-24 00:00:00 │ e6d76b26416ca5de30…  │ … │ 99ac15ed7b80a78dc6…  │ 1c324d3a5a4e1cc44a…  │\n",
       "│ 9bc94d256a8e4be8ed…  │ 2024-04-24 00:00:00 │ e6d76b26416ca5de30…  │ … │ 99ac15ed7b80a78dc6…  │ 1c324d3a5a4e1cc44a…  │\n",
       "│ 2385c5b22d66c35aaa…  │ 2024-04-24 00:00:00 │ 5fd7cbbc45010f147c…  │ … │ 106f08a1b42314c696…  │ 8e6b57a9e569ee7a2e…  │\n",
       "│ 30b2a56c2d9247d850…  │ 2024-04-24 00:00:00 │ 129062814faa8bf423…  │ … │ b8dd4ded81e0d308b5…  │ ad7616c7342c2f25a1…  │\n",
       "│ ca96d973d407b8f606…  │ 2024-04-24 00:00:00 │ 129062814faa8bf423…  │ … │ b8dd4ded81e0d308b5…  │ ad7616c7342c2f25a1…  │\n",
       "│ 33d865b8e76af2df35…  │ 2024-04-24 00:00:00 │ 129062814faa8bf423…  │ … │ b8dd4ded81e0d308b5…  │ ad7616c7342c2f25a1…  │\n",
       "│ 2ebf751d2f73b5ab77…  │ 2024-04-24 00:00:00 │ 129062814faa8bf423…  │ … │ b8dd4ded81e0d308b5…  │ ad7616c7342c2f25a1…  │\n",
       "│ bc9202ec248864b6d6…  │ 2024-04-24 00:00:00 │ 129062814faa8bf423…  │ … │ b8dd4ded81e0d308b5…  │ ad7616c7342c2f25a1…  │\n",
       "│ 1104c958a6a4f524df…  │ 2024-04-24 00:00:00 │ ada71870b639ce542d…  │ … │ 4f2a74539bfe86a8a9…  │ 0e101007764a203dc8…  │\n",
       "├──────────────────────┴─────────────────────┴──────────────────────┴───┴──────────────────────┴──────────────────────┤\n",
       "│ 2155 rows (20 shown)                                                                           16 columns (5 shown) │\n",
       "└─────────────────────────────────────────────────────────────────────────────────────────────────────────────────────┘"
      ]
     },
     "execution_count": 13,
     "metadata": {},
     "output_type": "execute_result"
    }
   ],
   "source": [
    "con.sql(\"select * from postgres.silver_business_vault.Bridge_Store\")"
   ]
  },
  {
   "cell_type": "code",
   "execution_count": 14,
   "id": "33b1e484-7006-4a79-a906-d6de6f4d8faf",
   "metadata": {},
   "outputs": [],
   "source": [
    "con.close()"
   ]
  },
  {
   "cell_type": "code",
   "execution_count": null,
   "id": "97a4c152-24d4-43e3-b3ee-7c986248f8e9",
   "metadata": {},
   "outputs": [],
   "source": []
  }
 ],
 "metadata": {
  "kernelspec": {
   "display_name": "Python 3 (ipykernel)",
   "language": "python",
   "name": "python3"
  },
  "language_info": {
   "codemirror_mode": {
    "name": "ipython",
    "version": 3
   },
   "file_extension": ".py",
   "mimetype": "text/x-python",
   "name": "python",
   "nbconvert_exporter": "python",
   "pygments_lexer": "ipython3",
   "version": "3.12.2"
  }
 },
 "nbformat": 4,
 "nbformat_minor": 5
}
